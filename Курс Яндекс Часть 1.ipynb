{
 "cells": [
  {
   "cell_type": "markdown",
   "id": "be4fb6c3-a837-4823-be6b-e88759561b3e",
   "metadata": {},
   "source": [
    "# Конверсия и повторные покупатели"
   ]
  },
  {
   "cell_type": "code",
   "execution_count": 108,
   "id": "74479a92-2065-4620-b6b5-124bd2a35200",
   "metadata": {},
   "outputs": [],
   "source": [
    "import matplotlib.pyplot as plt"
   ]
  },
  {
   "cell_type": "markdown",
   "id": "66cfc7ca-3382-43d0-b015-6f2ecd8d8197",
   "metadata": {},
   "source": [
    "## **\"&lt;br&gt;\"** с новой строки"
   ]
  },
  {
   "cell_type": "markdown",
   "id": "ea2b72fe-b7fc-484f-bfbb-a470366ac143",
   "metadata": {},
   "source": [
    "1.Рассчитайте конверсию визитов в покупки из рассылок и контекстной рекламы, сохраните значения в переменных email_conversion и context_conversion соответственно.\n",
    "Результат выведите на экран так:"
   ]
  },
  {
   "cell_type": "code",
   "execution_count": 109,
   "id": "b985ba33-65e7-456d-ae54-6862694da9b5",
   "metadata": {},
   "outputs": [
    {
     "name": "stdout",
     "output_type": "stream",
     "text": [
      "Конверсия рассылок: 5%\n",
      "Конверсия контекстной рекламы: 5%\n"
     ]
    }
   ],
   "source": [
    "email_visits = 1000 # количество визитов из рассылок\n",
    "context_visits = 1000 # количество визитов из контекстной рекламы\n",
    "email_purchases = 50 # количество покупок из рассылок\n",
    "context_purchases = 50 # количество покупок из контекстной рекламы\n",
    "email_conversion = email_purchases / email_visits # поделите email_purchases на email_visits\n",
    "context_conversion = context_purchases / context_visits  # напишите ваш код здесь\n",
    "print('Конверсия рассылок: {:.0%}'.format(email_conversion))\n",
    "print('Конверсия контекстной рекламы: {:.0%}'.format(context_conversion))"
   ]
  },
  {
   "cell_type": "markdown",
   "id": "1bae8893-4ad6-4563-b16b-9d25be3774fa",
   "metadata": {},
   "source": [
    "2.Продолжим автоматизировать труд маркетологов: научим Python сравнивать источники трафика и выбирать лучший. Если конверсия рассылок email_conversion больше конверсии контекстной рекламы context_conversion, выведите на экран: 'Вывод: рассылки эффективнее'. Если наоборот, то: 'Вывод: контекстная реклама эффективнее'. Не удаляйте из вывода результат предыдущей задачи."
   ]
  },
  {
   "cell_type": "code",
   "execution_count": 110,
   "id": "f14d4601-a0df-4992-90f6-6070cad571ed",
   "metadata": {},
   "outputs": [
    {
     "name": "stdout",
     "output_type": "stream",
     "text": [
      "Вывод: контекстная реклама эффективнее\n"
     ]
    }
   ],
   "source": [
    "if email_conversion>context_conversion:\n",
    "    print('Вывод: рассылки эффективнее')\n",
    "else:\n",
    "    print('Вывод: контекстная реклама эффективнее')"
   ]
  },
  {
   "cell_type": "markdown",
   "id": "357d11bb-f73c-4e20-b7ca-bf74163065f2",
   "metadata": {},
   "source": [
    "3.Добавьте случай, когда конверсии равны. При равенстве конверсий выводите: 'Конверсии равны, пора смотреть другие метрики'."
   ]
  },
  {
   "cell_type": "code",
   "execution_count": 111,
   "id": "116536d9-89da-457e-b8a7-394457772ccd",
   "metadata": {},
   "outputs": [
    {
     "name": "stdout",
     "output_type": "stream",
     "text": [
      "Конверсии равны, пора смотреть другие метрики\n"
     ]
    }
   ],
   "source": [
    "if email_conversion>context_conversion:\n",
    "    print('Вывод: рассылки эффективнее')\n",
    "elif email_conversion == context_conversion:\n",
    "    print('Конверсии равны, пора смотреть другие метрики')\n",
    "else:\n",
    "    print('Вывод: контекстная реклама эффективнее')"
   ]
  },
  {
   "cell_type": "markdown",
   "id": "11dac293-3d93-45fc-8bed-93dd3bf04ca7",
   "metadata": {},
   "source": [
    "4.Измените значения переменных email_visits, context_visits, email_purchases, context_purchases так, чтобы получить вывод, что контекстная реклама эффективнее или что конверсии рассылок и контекстной рекламы равны."
   ]
  },
  {
   "cell_type": "markdown",
   "id": "e0511b9b-a05b-4a02-870d-c15913b9bfff",
   "metadata": {},
   "source": [
    "Выполнено"
   ]
  },
  {
   "cell_type": "markdown",
   "id": "99bf42c2-65ef-4dc1-a4fa-3a4a0aee8ddf",
   "metadata": {},
   "source": [
    "5.Вы уже умеете находить конверсию. Рассчитайте другую важную для бизнеса метрику — долю повторных покупателей.\n",
    "В переменной total посчитайте общее количество покупателей: сложите число пользователей, совершивших одну покупку, с числом тех, кто совершил две и более.\n",
    "Выведите результат в виде: 'Общее количество покупателей: ...'"
   ]
  },
  {
   "cell_type": "code",
   "execution_count": 112,
   "id": "46bd514f-0174-4515-8b59-3ee560055775",
   "metadata": {},
   "outputs": [
    {
     "name": "stdout",
     "output_type": "stream",
     "text": [
      "Общее количество покупателей: 1021\n"
     ]
    }
   ],
   "source": [
    "first_purchase = 885 # количество пользователей, совершивших 1 покупку\n",
    "repeated_purchase = 136 # количество пользователей, совершивших 2 и более покупок\n",
    "total = first_purchase + repeated_purchase\n",
    "print(f'Общее количество покупателей: {total}')"
   ]
  },
  {
   "cell_type": "markdown",
   "id": "7a9d207c-b127-493c-8cef-aa90b48c98ad",
   "metadata": {},
   "source": [
    "6.Посчитайте долю повторных покупок как отношение repeated_purchase к total. Ответ положите в переменную repeated_purchase_part.\n",
    "Результат выведите на экран так: 'Доля повторных покупок равна ...%'. Процент отобразите в виде целого числа — с точностью ноль знаков после запятой."
   ]
  },
  {
   "cell_type": "code",
   "execution_count": 113,
   "id": "f8f0496f-80e8-439d-a657-42e756c38657",
   "metadata": {},
   "outputs": [
    {
     "name": "stdout",
     "output_type": "stream",
     "text": [
      "Доля повторных покупок равна 13%\n"
     ]
    }
   ],
   "source": [
    "repeated_purchase_part = repeated_purchase / total\n",
    "print('Доля повторных покупок равна {:.0%}'.format(repeated_purchase_part))"
   ]
  },
  {
   "cell_type": "markdown",
   "id": "aa51a371-f4ac-471a-b2a9-c5420e69d257",
   "metadata": {},
   "source": [
    "# User ID и куки"
   ]
  },
  {
   "cell_type": "markdown",
   "id": "2b2096d5-9757-4ba6-a5d3-4d68d7e897cd",
   "metadata": {},
   "source": [
    "1.Взгляните на присланную разработчиками таблицу. Она называется logs, так как в ней отражены логи — данные о посещениях сайта.\n",
    "В таблице четыре столбца:\n",
    "user_id — идентификатор пользователя;\n",
    "email подписчика рассылки;\n",
    "source, источник трафика;\n",
    "purchase, факт покупки: со значением 1, если покупка состоялась, 0 — не состоялась.\n",
    "Каждая строчка в таблице соответствует визиту на сайт. User ID, источник трафика и факт покупки можно получить из Яндекс.Метрики, а адреса электронной почты — из базы тех, кто подписался на email-рассылку. Когда к набору полученных определённым образом данных добавляют информацию из другого источника, это называется обогащение данных.\n",
    "Прочтите содержимое файла logs.csv и сохраните его в датафрейме logs. Ознакомьтесь с данными, вызвав метод head().\n",
    "Путь к файлу: /datasets/logs.csv"
   ]
  },
  {
   "cell_type": "code",
   "execution_count": 114,
   "id": "079443ea-d883-41ef-b277-a98bb653e78f",
   "metadata": {},
   "outputs": [],
   "source": [
    "#Для домашнего компьютера\n",
    "#import pandas as pd\n",
    "#logs = pd.read_csv('F:\\Курс аналитик данных яндекс\\logs.csv')"
   ]
  },
  {
   "cell_type": "code",
   "execution_count": 115,
   "id": "d6d4ff23-3fd6-4a0c-85b1-2b3670f7f790",
   "metadata": {},
   "outputs": [],
   "source": [
    "#Для рабочего компьютера\n",
    "import pandas as pd\n",
    "logs = pd.read_csv('F:/Курс аналитик данных яндекс/logs.csv')"
   ]
  },
  {
   "cell_type": "code",
   "execution_count": 116,
   "id": "b2adc908-52c0-4d29-b978-09947cba8cb0",
   "metadata": {},
   "outputs": [
    {
     "data": {
      "text/html": [
       "<div>\n",
       "<style scoped>\n",
       "    .dataframe tbody tr th:only-of-type {\n",
       "        vertical-align: middle;\n",
       "    }\n",
       "\n",
       "    .dataframe tbody tr th {\n",
       "        vertical-align: top;\n",
       "    }\n",
       "\n",
       "    .dataframe thead th {\n",
       "        text-align: right;\n",
       "    }\n",
       "</style>\n",
       "<table border=\"1\" class=\"dataframe\">\n",
       "  <thead>\n",
       "    <tr style=\"text-align: right;\">\n",
       "      <th></th>\n",
       "      <th>user_id</th>\n",
       "      <th>source</th>\n",
       "      <th>email</th>\n",
       "      <th>purchase</th>\n",
       "    </tr>\n",
       "  </thead>\n",
       "  <tbody>\n",
       "    <tr>\n",
       "      <th>0</th>\n",
       "      <td>7141786820</td>\n",
       "      <td>other</td>\n",
       "      <td>NaN</td>\n",
       "      <td>0</td>\n",
       "    </tr>\n",
       "    <tr>\n",
       "      <th>1</th>\n",
       "      <td>5644686960</td>\n",
       "      <td>email</td>\n",
       "      <td>c129aa540a</td>\n",
       "      <td>0</td>\n",
       "    </tr>\n",
       "    <tr>\n",
       "      <th>2</th>\n",
       "      <td>1914055396</td>\n",
       "      <td>context</td>\n",
       "      <td>NaN</td>\n",
       "      <td>0</td>\n",
       "    </tr>\n",
       "    <tr>\n",
       "      <th>3</th>\n",
       "      <td>4099355752</td>\n",
       "      <td>other</td>\n",
       "      <td>NaN</td>\n",
       "      <td>0</td>\n",
       "    </tr>\n",
       "    <tr>\n",
       "      <th>4</th>\n",
       "      <td>6032477554</td>\n",
       "      <td>context</td>\n",
       "      <td>NaN</td>\n",
       "      <td>1</td>\n",
       "    </tr>\n",
       "  </tbody>\n",
       "</table>\n",
       "</div>"
      ],
      "text/plain": [
       "      user_id   source       email  purchase\n",
       "0  7141786820    other         NaN         0\n",
       "1  5644686960    email  c129aa540a         0\n",
       "2  1914055396  context         NaN         0\n",
       "3  4099355752    other         NaN         0\n",
       "4  6032477554  context         NaN         1"
      ]
     },
     "execution_count": 116,
     "metadata": {},
     "output_type": "execute_result"
    }
   ],
   "source": [
    "logs.head(5)"
   ]
  },
  {
   "cell_type": "markdown",
   "id": "7a809bfa-04e6-4bef-a86a-b2eb7f332e8d",
   "metadata": {},
   "source": [
    "2.Оцените объём данных в таблице logs."
   ]
  },
  {
   "cell_type": "code",
   "execution_count": 117,
   "id": "bff8d1fb-1212-491e-9707-c10d497e3c13",
   "metadata": {},
   "outputs": [
    {
     "data": {
      "text/plain": [
       "<bound method DataFrame.info of            user_id   source       email  purchase\n",
       "0       7141786820    other         NaN         0\n",
       "1       5644686960    email  c129aa540a         0\n",
       "2       1914055396  context         NaN         0\n",
       "3       4099355752    other         NaN         0\n",
       "4       6032477554  context         NaN         1\n",
       "...            ...      ...         ...       ...\n",
       "199995  8714621942    other         NaN         0\n",
       "199996  6064948744  context         NaN         1\n",
       "199997  9210683879  context         NaN         0\n",
       "199998  1629959686    other         NaN         1\n",
       "199999  2089329795    other         NaN         0\n",
       "\n",
       "[200000 rows x 4 columns]>"
      ]
     },
     "execution_count": 117,
     "metadata": {},
     "output_type": "execute_result"
    }
   ],
   "source": [
    "logs.info"
   ]
  },
  {
   "cell_type": "markdown",
   "id": "22cda715-37df-452e-8acf-3d15cd8199eb",
   "metadata": {},
   "source": [
    "3.Посчитайте количество уникальных email и уникальных User ID в таблице logs.\n",
    "Выведите результат на экран в таком виде:\n",
    "Уникальных email: ...\n",
    "Уникальных User ID: ... "
   ]
  },
  {
   "cell_type": "code",
   "execution_count": 118,
   "id": "fe7337db-a4c6-45d6-9935-932918058d96",
   "metadata": {},
   "outputs": [
    {
     "name": "stdout",
     "output_type": "stream",
     "text": [
      "Уникальных email: 6063\n",
      "Уникальных User ID: 86571\n"
     ]
    }
   ],
   "source": [
    "print('Уникальных email:' ,len(logs['email'].unique()))\n",
    "print('Уникальных User ID:', len(logs['user_id'].unique()))"
   ]
  },
  {
   "cell_type": "markdown",
   "id": "e7253efb-e23e-4663-b3ba-fe141120779f",
   "metadata": {},
   "source": [
    "4.Методом unique() определите, какие уникальные источники трафика есть в таблице. Результат выведите на экран."
   ]
  },
  {
   "cell_type": "code",
   "execution_count": 119,
   "id": "918ccf63-27a5-4f2f-b0dd-92948281dcd8",
   "metadata": {},
   "outputs": [
    {
     "data": {
      "text/plain": [
       "array(['other', 'email', 'context', nan, 'undef'], dtype=object)"
      ]
     },
     "execution_count": 119,
     "metadata": {},
     "output_type": "execute_result"
    }
   ],
   "source": [
    "logs['source'].unique()"
   ]
  },
  {
   "cell_type": "markdown",
   "id": "8add8a62-ac9c-4448-9cb1-6c2b888ee557",
   "metadata": {},
   "source": [
    "# Вы обнаружили NaN и None"
   ]
  },
  {
   "cell_type": "markdown",
   "id": "b0386011-18b6-4c92-bc15-7954913f166e",
   "metadata": {},
   "source": [
    "Вызвав к столбцу source метод value_counts(), который возвращает уникальные значения и количество их упоминаний, определим, сколько раз источник трафика был пропущен.\n",
    "## Value_counts Nan не возвращает по умолчанию, нужно указать .value_counts(dropna=False))"
   ]
  },
  {
   "cell_type": "code",
   "execution_count": 120,
   "id": "cac05c9d-8903-4f11-b1b1-5f37744c35dc",
   "metadata": {},
   "outputs": [
    {
     "name": "stdout",
     "output_type": "stream",
     "text": [
      "source\n",
      "other      133834\n",
      "context     52032\n",
      "email       12279\n",
      "NaN          1674\n",
      "undef         181\n",
      "Name: count, dtype: int64\n"
     ]
    }
   ],
   "source": [
    "print(logs['source'].value_counts(dropna=False)) "
   ]
  },
  {
   "cell_type": "markdown",
   "id": "6d802387-48c3-4c8f-ac6b-6ae6983a3ed3",
   "metadata": {},
   "source": [
    "Источник трафика пропущен в 1674 случаях. Это менее 1% от всех значений датафрейма logs, в котором 200 000 строк. Меньше процента — это немного, и в большинстве задач удаление такой доли строк не повлияет на результаты. Но что, если все пропуски сделаны на месте значений 'email'? Тогда, удалив строки с None, мы лишим себя почти 1/7 данных: 1674 / 12279 = 13,6%. Это повлияет на метрики email-рассылок и выводы исследования."
   ]
  },
  {
   "cell_type": "markdown",
   "id": "1389e855-dde6-4fcb-8a0b-df679f0a6bf0",
   "metadata": {},
   "source": [
    "Методом isna() найдём все строки с пропусками в столбце email и просмотрим первые пять."
   ]
  },
  {
   "cell_type": "code",
   "execution_count": 121,
   "id": "d51bf7b7-4336-43e6-88b1-706e4bd8fbc5",
   "metadata": {},
   "outputs": [
    {
     "data": {
      "text/html": [
       "<div>\n",
       "<style scoped>\n",
       "    .dataframe tbody tr th:only-of-type {\n",
       "        vertical-align: middle;\n",
       "    }\n",
       "\n",
       "    .dataframe tbody tr th {\n",
       "        vertical-align: top;\n",
       "    }\n",
       "\n",
       "    .dataframe thead th {\n",
       "        text-align: right;\n",
       "    }\n",
       "</style>\n",
       "<table border=\"1\" class=\"dataframe\">\n",
       "  <thead>\n",
       "    <tr style=\"text-align: right;\">\n",
       "      <th></th>\n",
       "      <th>user_id</th>\n",
       "      <th>source</th>\n",
       "      <th>email</th>\n",
       "      <th>purchase</th>\n",
       "    </tr>\n",
       "  </thead>\n",
       "  <tbody>\n",
       "    <tr>\n",
       "      <th>0</th>\n",
       "      <td>7141786820</td>\n",
       "      <td>other</td>\n",
       "      <td>NaN</td>\n",
       "      <td>0</td>\n",
       "    </tr>\n",
       "    <tr>\n",
       "      <th>2</th>\n",
       "      <td>1914055396</td>\n",
       "      <td>context</td>\n",
       "      <td>NaN</td>\n",
       "      <td>0</td>\n",
       "    </tr>\n",
       "    <tr>\n",
       "      <th>3</th>\n",
       "      <td>4099355752</td>\n",
       "      <td>other</td>\n",
       "      <td>NaN</td>\n",
       "      <td>0</td>\n",
       "    </tr>\n",
       "    <tr>\n",
       "      <th>4</th>\n",
       "      <td>6032477554</td>\n",
       "      <td>context</td>\n",
       "      <td>NaN</td>\n",
       "      <td>1</td>\n",
       "    </tr>\n",
       "    <tr>\n",
       "      <th>5</th>\n",
       "      <td>5872473344</td>\n",
       "      <td>other</td>\n",
       "      <td>NaN</td>\n",
       "      <td>0</td>\n",
       "    </tr>\n",
       "  </tbody>\n",
       "</table>\n",
       "</div>"
      ],
      "text/plain": [
       "      user_id   source email  purchase\n",
       "0  7141786820    other   NaN         0\n",
       "2  1914055396  context   NaN         0\n",
       "3  4099355752    other   NaN         0\n",
       "4  6032477554  context   NaN         1\n",
       "5  5872473344    other   NaN         0"
      ]
     },
     "execution_count": 121,
     "metadata": {},
     "output_type": "execute_result"
    }
   ],
   "source": [
    "logs[logs['email'].isna()].head()"
   ]
  },
  {
   "cell_type": "markdown",
   "id": "058d7706-aae2-470d-9d8a-4dfeabdc6e8b",
   "metadata": {},
   "source": [
    "Чтобы сосчитать строки без email-адресов, вызовем функцию len()."
   ]
  },
  {
   "cell_type": "code",
   "execution_count": 122,
   "id": "f4d6c23b-dd33-4c9e-81a3-32f36009a276",
   "metadata": {},
   "outputs": [
    {
     "data": {
      "text/plain": [
       "186047"
      ]
     },
     "execution_count": 122,
     "metadata": {},
     "output_type": "execute_result"
    }
   ],
   "source": [
    "len(logs[logs['email'].isna()])"
   ]
  },
  {
   "cell_type": "markdown",
   "id": "20d37384-2079-4df5-a800-5e6fd2a85a22",
   "metadata": {},
   "source": [
    "В 186 047 строках из 200 000 электронный адрес пропущен. Большое количество пропусков логично — пользователи регистрируются на сайте неохотно."
   ]
  },
  {
   "cell_type": "markdown",
   "id": "5142a354-9b71-4968-af30-4b740c7c4f8c",
   "metadata": {},
   "source": [
    "1.Восстановите справедливость: верните Рону его факультет, заменив значение NaN на 'Гриффиндор' методом fillna(). Выведите на экран таблицу hogwarts_points.\n",
    "('F:\\Курс аналитик данных яндекс\\logs.csv')"
   ]
  },
  {
   "cell_type": "code",
   "execution_count": 123,
   "id": "3a000b74-9202-4887-83f3-5c40fd1f162a",
   "metadata": {},
   "outputs": [],
   "source": [
    "#Для домашнего компьютера\n",
    "#hogwarts_points = pd.read_csv('F:\\Курс аналитик данных яндекс\\hogwarts_points.csv')"
   ]
  },
  {
   "cell_type": "code",
   "execution_count": 124,
   "id": "00f8502f-f10c-47db-8da1-7a9a0d77a4e9",
   "metadata": {},
   "outputs": [],
   "source": [
    "#Для рабочего компьютера\n",
    "hogwarts_points = pd.read_csv('F:/Курс аналитик данных яндекс/hogwarts_points.csv')"
   ]
  },
  {
   "cell_type": "code",
   "execution_count": 125,
   "id": "09f0692c-bc87-492a-bc96-c4dadd4caea0",
   "metadata": {},
   "outputs": [
    {
     "data": {
      "text/html": [
       "<div>\n",
       "<style scoped>\n",
       "    .dataframe tbody tr th:only-of-type {\n",
       "        vertical-align: middle;\n",
       "    }\n",
       "\n",
       "    .dataframe tbody tr th {\n",
       "        vertical-align: top;\n",
       "    }\n",
       "\n",
       "    .dataframe thead th {\n",
       "        text-align: right;\n",
       "    }\n",
       "</style>\n",
       "<table border=\"1\" class=\"dataframe\">\n",
       "  <thead>\n",
       "    <tr style=\"text-align: right;\">\n",
       "      <th></th>\n",
       "      <th>faculty_name</th>\n",
       "      <th>student_name</th>\n",
       "      <th>points</th>\n",
       "    </tr>\n",
       "  </thead>\n",
       "  <tbody>\n",
       "    <tr>\n",
       "      <th>0</th>\n",
       "      <td>Гриффиндор</td>\n",
       "      <td>Гарри Поттер</td>\n",
       "      <td>15</td>\n",
       "    </tr>\n",
       "    <tr>\n",
       "      <th>1</th>\n",
       "      <td>Слизерин</td>\n",
       "      <td>Драко Малфой</td>\n",
       "      <td>28</td>\n",
       "    </tr>\n",
       "    <tr>\n",
       "      <th>2</th>\n",
       "      <td>Когтевран</td>\n",
       "      <td>Полумна Лавгуд</td>\n",
       "      <td>10</td>\n",
       "    </tr>\n",
       "    <tr>\n",
       "      <th>3</th>\n",
       "      <td>NaN</td>\n",
       "      <td>Рон Уизли</td>\n",
       "      <td>5</td>\n",
       "    </tr>\n",
       "    <tr>\n",
       "      <th>4</th>\n",
       "      <td>Пуффендуй</td>\n",
       "      <td>Седрик Диггори</td>\n",
       "      <td>17</td>\n",
       "    </tr>\n",
       "    <tr>\n",
       "      <th>5</th>\n",
       "      <td>Гриффиндор</td>\n",
       "      <td>Невилл Долгопупс</td>\n",
       "      <td>12</td>\n",
       "    </tr>\n",
       "  </tbody>\n",
       "</table>\n",
       "</div>"
      ],
      "text/plain": [
       "  faculty_name      student_name  points\n",
       "0   Гриффиндор      Гарри Поттер      15\n",
       "1     Слизерин      Драко Малфой      28\n",
       "2    Когтевран    Полумна Лавгуд      10\n",
       "3          NaN         Рон Уизли       5\n",
       "4    Пуффендуй    Седрик Диггори      17\n",
       "5   Гриффиндор  Невилл Долгопупс      12"
      ]
     },
     "execution_count": 125,
     "metadata": {},
     "output_type": "execute_result"
    }
   ],
   "source": [
    "hogwarts_points"
   ]
  },
  {
   "cell_type": "code",
   "execution_count": 126,
   "id": "2f1f2512-1ba8-41c5-bc7c-d3b092b36e08",
   "metadata": {},
   "outputs": [],
   "source": [
    "hogwarts_points['faculty_name'] = hogwarts_points['faculty_name'].fillna('Гриффиндор')"
   ]
  },
  {
   "cell_type": "markdown",
   "id": "dad70fb0-9bd2-44db-a6e0-8b20b2c8d6bd",
   "metadata": {},
   "source": [
    "2.Измените код, чтобы результат приобрёл такой вид:\n",
    "<br>Сумма баллов учеников: # сумма значений столбца 'points'\n",
    "<br>Сумма баллов факультетов: # сумма баллов при группировке по факультетам\n",
    "<br>Кубок получает # название факультета"
   ]
  },
  {
   "cell_type": "code",
   "execution_count": 127,
   "id": "384d29db-64f3-4cbe-bd0b-85ff913d0c58",
   "metadata": {},
   "outputs": [
    {
     "name": "stdout",
     "output_type": "stream",
     "text": [
      "Сумма баллов учеников:  87\n"
     ]
    }
   ],
   "source": [
    "print(f\"Сумма баллов учеников:  {hogwarts_points['points'].sum()}\")"
   ]
  },
  {
   "cell_type": "code",
   "execution_count": 128,
   "id": "cc973c44-be22-4697-b7dd-1e51b83934c4",
   "metadata": {},
   "outputs": [
    {
     "name": "stdout",
     "output_type": "stream",
     "text": [
      "Сумма баллов факультетов:  87\n"
     ]
    }
   ],
   "source": [
    "print(f\"Сумма баллов факультетов:  {hogwarts_points.groupby('faculty_name')['points'].sum().sum()}\")"
   ]
  },
  {
   "cell_type": "code",
   "execution_count": 129,
   "id": "06bb86d9-814e-4062-b30b-d48370f06b8d",
   "metadata": {},
   "outputs": [
    {
     "name": "stdout",
     "output_type": "stream",
     "text": [
      "Кубок получает Гриффиндор\n"
     ]
    }
   ],
   "source": [
    "print('Кубок получает', hogwarts_points.groupby('faculty_name')['points'].sum().idxmax()) "
   ]
  },
  {
   "cell_type": "markdown",
   "id": "453cac1c-2384-4855-81f0-c81bfa5d7331",
   "metadata": {},
   "source": [
    "3.Применим полученные в Хогвартсе знания к реальной задаче. Возьмём источники трафика Яндекс.Маркета и рассчитаем конверсию.\n",
    "Найдите количество визитов из каждого источника трафика, результат сохраните в переменной visits и выведите на экран."
   ]
  },
  {
   "cell_type": "code",
   "execution_count": 130,
   "id": "24d1c575-97a4-4428-88ae-69c7d922e8ff",
   "metadata": {},
   "outputs": [
    {
     "data": {
      "text/html": [
       "<div>\n",
       "<style scoped>\n",
       "    .dataframe tbody tr th:only-of-type {\n",
       "        vertical-align: middle;\n",
       "    }\n",
       "\n",
       "    .dataframe tbody tr th {\n",
       "        vertical-align: top;\n",
       "    }\n",
       "\n",
       "    .dataframe thead th {\n",
       "        text-align: right;\n",
       "    }\n",
       "</style>\n",
       "<table border=\"1\" class=\"dataframe\">\n",
       "  <thead>\n",
       "    <tr style=\"text-align: right;\">\n",
       "      <th></th>\n",
       "      <th>user_id</th>\n",
       "      <th>source</th>\n",
       "      <th>email</th>\n",
       "      <th>purchase</th>\n",
       "    </tr>\n",
       "  </thead>\n",
       "  <tbody>\n",
       "    <tr>\n",
       "      <th>0</th>\n",
       "      <td>7141786820</td>\n",
       "      <td>other</td>\n",
       "      <td>NaN</td>\n",
       "      <td>0</td>\n",
       "    </tr>\n",
       "    <tr>\n",
       "      <th>1</th>\n",
       "      <td>5644686960</td>\n",
       "      <td>email</td>\n",
       "      <td>c129aa540a</td>\n",
       "      <td>0</td>\n",
       "    </tr>\n",
       "    <tr>\n",
       "      <th>2</th>\n",
       "      <td>1914055396</td>\n",
       "      <td>context</td>\n",
       "      <td>NaN</td>\n",
       "      <td>0</td>\n",
       "    </tr>\n",
       "    <tr>\n",
       "      <th>3</th>\n",
       "      <td>4099355752</td>\n",
       "      <td>other</td>\n",
       "      <td>NaN</td>\n",
       "      <td>0</td>\n",
       "    </tr>\n",
       "    <tr>\n",
       "      <th>4</th>\n",
       "      <td>6032477554</td>\n",
       "      <td>context</td>\n",
       "      <td>NaN</td>\n",
       "      <td>1</td>\n",
       "    </tr>\n",
       "  </tbody>\n",
       "</table>\n",
       "</div>"
      ],
      "text/plain": [
       "      user_id   source       email  purchase\n",
       "0  7141786820    other         NaN         0\n",
       "1  5644686960    email  c129aa540a         0\n",
       "2  1914055396  context         NaN         0\n",
       "3  4099355752    other         NaN         0\n",
       "4  6032477554  context         NaN         1"
      ]
     },
     "execution_count": 130,
     "metadata": {},
     "output_type": "execute_result"
    }
   ],
   "source": [
    "logs.head(5)"
   ]
  },
  {
   "cell_type": "code",
   "execution_count": 131,
   "id": "5cbc5698-b425-40e4-89e1-063bdbd26796",
   "metadata": {},
   "outputs": [],
   "source": [
    "visits = logs.groupby('source')['user_id'].count()"
   ]
  },
  {
   "cell_type": "code",
   "execution_count": 132,
   "id": "f76b1d70-3d72-41fd-affe-4580db372b1c",
   "metadata": {},
   "outputs": [
    {
     "data": {
      "text/plain": [
       "source\n",
       "context     52032\n",
       "email       12279\n",
       "other      133834\n",
       "undef         181\n",
       "Name: user_id, dtype: int64"
      ]
     },
     "execution_count": 132,
     "metadata": {},
     "output_type": "execute_result"
    }
   ],
   "source": [
    "visits"
   ]
  },
  {
   "cell_type": "code",
   "execution_count": 133,
   "id": "377ebcf6-f699-4f13-bd0c-2a4828f28a54",
   "metadata": {},
   "outputs": [
    {
     "name": "stdout",
     "output_type": "stream",
     "text": [
      "source\n",
      "context     52032\n",
      "email       12279\n",
      "other      133834\n",
      "undef         181\n",
      "Name: user_id, dtype: int64\n"
     ]
    }
   ],
   "source": [
    "visits = logs.groupby('source')['user_id'].count() #общее количество визитов из каждого источника\n",
    "print(visits)"
   ]
  },
  {
   "cell_type": "markdown",
   "id": "867bf0a0-a343-4977-8e63-7222d8138cb0",
   "metadata": {},
   "source": [
    "4.Посчитайте количество совершённых покупок для каждого источника трафика. Результат сохраните в переменной purchase и выведите на экран."
   ]
  },
  {
   "cell_type": "code",
   "execution_count": 134,
   "id": "08ad5ed8-79bf-4bfe-b62f-17609e885df6",
   "metadata": {},
   "outputs": [
    {
     "name": "stdout",
     "output_type": "stream",
     "text": [
      "source\n",
      "context    3029\n",
      "email       913\n",
      "other      8041\n",
      "undef        12\n",
      "Name: purchase, dtype: int64\n"
     ]
    }
   ],
   "source": [
    "purchase = logs.groupby('source')['purchase'].sum()\n",
    "print(purchase)"
   ]
  },
  {
   "cell_type": "markdown",
   "id": "87473d33-3314-49a5-b5a1-4bbd40653ca8",
   "metadata": {},
   "source": [
    "5.Посчитайте конверсию по каждому источнику трафика, результат сохраните в переменной conversion и выведите на экран."
   ]
  },
  {
   "cell_type": "code",
   "execution_count": 135,
   "id": "a75612b5-f1c9-4e92-b66e-9dfa4d5ad6bf",
   "metadata": {},
   "outputs": [
    {
     "name": "stdout",
     "output_type": "stream",
     "text": [
      "source\n",
      "context    0.058214\n",
      "email      0.074355\n",
      "other      0.060082\n",
      "undef      0.066298\n",
      "dtype: float64\n"
     ]
    }
   ],
   "source": [
    "conversion = purchase/visits\n",
    "print(conversion)"
   ]
  },
  {
   "cell_type": "markdown",
   "id": "ca3f2567-cd4b-4a0e-b694-4191bcf9c96f",
   "metadata": {},
   "source": [
    "# Категориальные и количественные переменные"
   ]
  },
  {
   "cell_type": "markdown",
   "id": "6d981732-a382-4c57-a350-e452aadae057",
   "metadata": {},
   "source": [
    "1.Выведите на экран первые пять строк таблицы logs. Определите, какой столбец соответствует логической переменной, и выведите его название на экран."
   ]
  },
  {
   "cell_type": "code",
   "execution_count": 136,
   "id": "1c54c67e-5020-4ffd-ac69-e0c899254e46",
   "metadata": {},
   "outputs": [
    {
     "name": "stdout",
     "output_type": "stream",
     "text": [
      "purchase\n"
     ]
    }
   ],
   "source": [
    "logs.head(10)\n",
    "print('purchase')"
   ]
  },
  {
   "cell_type": "markdown",
   "id": "dea532f4-4dac-44dd-baa3-db22913c2d7d",
   "metadata": {},
   "source": [
    "2.Перед вами список переменных из набора данных Яндекс.Маркета. Выведите на экран названия категориальных переменных."
   ]
  },
  {
   "cell_type": "code",
   "execution_count": 137,
   "id": "5963c424-66bd-497d-9d7f-5f73644d753d",
   "metadata": {},
   "outputs": [
    {
     "name": "stdout",
     "output_type": "stream",
     "text": [
      "name manufacturer category reseller color has_discount\n"
     ]
    }
   ],
   "source": [
    "variables = [ 'name', # название товара\n",
    "              'num_reviews', # количество отзывов\n",
    "              'manufacturer', # производитель\n",
    "              'medium_price', # средняя цена\n",
    "              'min_price', # минимальная цена\n",
    "              'max_price', # максимальная цена\n",
    "              'category', # категория\n",
    "              'color', # цвет\n",
    "              'reseller', # продавец\n",
    "              'has_discount', # есть ли скидки?\n",
    "]\n",
    "print('name','manufacturer','category','reseller','color','has_discount')"
   ]
  },
  {
   "cell_type": "markdown",
   "id": "64d62ffa-b552-494d-9e19-a4cfb1d85ec2",
   "metadata": {},
   "source": [
    "3.Сервис бронирования личного жилья для отдыха хранит информацию о хозяевах. Выведите названия количественных переменных."
   ]
  },
  {
   "cell_type": "code",
   "execution_count": 138,
   "id": "49bf2516-a323-4722-8fb6-fe70768edf3e",
   "metadata": {},
   "outputs": [
    {
     "name": "stdout",
     "output_type": "stream",
     "text": [
      "accommodates bathroom bedrooms beds price\n"
     ]
    }
   ],
   "source": [
    "variables = [\n",
    "    'host_name',  # имя хозяина жилья\n",
    "    'city',  # город\n",
    "    'zipcode',  # индекс\n",
    "    'accommodates',  # количество гостей\n",
    "    'bathroom',  # количество ванных комнат\n",
    "    'bedrooms',  # количество спальных комнат\n",
    "    'beds',  # количество кроватей\n",
    "    'price',  # цена\n",
    "]\n",
    "print('accommodates','bathroom','bedrooms','beds','price')"
   ]
  },
  {
   "cell_type": "markdown",
   "id": "6baf148d-7af5-406b-abbc-8bad4409b2e0",
   "metadata": {},
   "source": [
    "4.Данные новостного сервиса содержат информацию о действиях пользователей. Выведите названия категориальных переменных."
   ]
  },
  {
   "cell_type": "code",
   "execution_count": 139,
   "id": "d38d2d2c-a748-4412-9473-f958935a319e",
   "metadata": {},
   "outputs": [
    {
     "name": "stdout",
     "output_type": "stream",
     "text": [
      "['user_id', 'news_type', 'event', 'tag']\n"
     ]
    }
   ],
   "source": [
    "variables = [\n",
    "    'user_id',  # id пользователя\n",
    "    'news_type',  # тип новостного сообщения\n",
    "    'event',  # вид события: клик, показ\n",
    "    'tag',  # тема новостного сообщения\n",
    "]\n",
    "print(variables)"
   ]
  },
  {
   "cell_type": "markdown",
   "id": "e0277938-ee29-40c9-bbc3-6d9871fe2db7",
   "metadata": {},
   "source": [
    "5.Краудфандинговый сервис хранит информацию о проектах. Выведите названия количественных переменных."
   ]
  },
  {
   "cell_type": "code",
   "execution_count": 140,
   "id": "c29194e0-a326-4c97-abae-d264abf56afb",
   "metadata": {},
   "outputs": [
    {
     "name": "stdout",
     "output_type": "stream",
     "text": [
      "goal pledged backers\n"
     ]
    }
   ],
   "source": [
    "variables = [\n",
    "    'project_id',  # id проекта\n",
    "    'category',  # категория проекта\n",
    "    'goal',  # сколько денег хотят собрать\n",
    "    'pledged',  # сколько собрали\n",
    "    'state',  # статус проекта\n",
    "    'backers'  # количество человек, которые отправили деньги\n",
    "]\n",
    "print(variables[2],variables[3],variables[5])"
   ]
  },
  {
   "cell_type": "markdown",
   "id": "31e6f5c0-c6cf-412e-9126-dc4f52891c64",
   "metadata": {},
   "source": [
    "# Работа с пропусками в категориальных переменных"
   ]
  },
  {
   "cell_type": "markdown",
   "id": "7c9b1327-535e-445a-b9ad-e29c81b1ffad",
   "metadata": {},
   "source": [
    "Сперва посчитали количество строк с визитами, а затем суммировали значения в строках, чтобы найти число покупок. Для группировки столбца 'source' вызывали две функции: count() и sum(). Однако количество действий для решения задачи можно сократить.\n",
    "## Метод agg(), указывающий, какие именно функции применить к столбцу 'purchase'. Название столбца и сами функции запишем в особую структуру данных — словарь. Словарь состоит из ключа и значения:\n"
   ]
  },
  {
   "cell_type": "markdown",
   "id": "270a4e43-17c5-4c3f-bde5-8faf4c13bff8",
   "metadata": {},
   "source": [
    "## groupby и Nan. Указать параметр dropna = False. Пример logs.groupby('source', dropna=False)"
   ]
  },
  {
   "cell_type": "code",
   "execution_count": 141,
   "id": "0eea6244-2932-49aa-be7b-792d979ddecb",
   "metadata": {},
   "outputs": [],
   "source": [
    "logs_grouped = logs.groupby('source', dropna=False).agg({'purchase': ['count', 'sum']})\n"
   ]
  },
  {
   "cell_type": "code",
   "execution_count": 142,
   "id": "02fc9e6b-f294-485e-997b-8866a738a29c",
   "metadata": {},
   "outputs": [
    {
     "data": {
      "text/html": [
       "<div>\n",
       "<style scoped>\n",
       "    .dataframe tbody tr th:only-of-type {\n",
       "        vertical-align: middle;\n",
       "    }\n",
       "\n",
       "    .dataframe tbody tr th {\n",
       "        vertical-align: top;\n",
       "    }\n",
       "\n",
       "    .dataframe thead tr th {\n",
       "        text-align: left;\n",
       "    }\n",
       "\n",
       "    .dataframe thead tr:last-of-type th {\n",
       "        text-align: right;\n",
       "    }\n",
       "</style>\n",
       "<table border=\"1\" class=\"dataframe\">\n",
       "  <thead>\n",
       "    <tr>\n",
       "      <th></th>\n",
       "      <th colspan=\"2\" halign=\"left\">purchase</th>\n",
       "    </tr>\n",
       "    <tr>\n",
       "      <th></th>\n",
       "      <th>count</th>\n",
       "      <th>sum</th>\n",
       "    </tr>\n",
       "    <tr>\n",
       "      <th>source</th>\n",
       "      <th></th>\n",
       "      <th></th>\n",
       "    </tr>\n",
       "  </thead>\n",
       "  <tbody>\n",
       "    <tr>\n",
       "      <th>context</th>\n",
       "      <td>52032</td>\n",
       "      <td>3029</td>\n",
       "    </tr>\n",
       "    <tr>\n",
       "      <th>email</th>\n",
       "      <td>12279</td>\n",
       "      <td>913</td>\n",
       "    </tr>\n",
       "    <tr>\n",
       "      <th>other</th>\n",
       "      <td>133834</td>\n",
       "      <td>8041</td>\n",
       "    </tr>\n",
       "    <tr>\n",
       "      <th>undef</th>\n",
       "      <td>181</td>\n",
       "      <td>12</td>\n",
       "    </tr>\n",
       "    <tr>\n",
       "      <th>NaN</th>\n",
       "      <td>1674</td>\n",
       "      <td>108</td>\n",
       "    </tr>\n",
       "  </tbody>\n",
       "</table>\n",
       "</div>"
      ],
      "text/plain": [
       "        purchase      \n",
       "           count   sum\n",
       "source                \n",
       "context    52032  3029\n",
       "email      12279   913\n",
       "other     133834  8041\n",
       "undef        181    12\n",
       "NaN         1674   108"
      ]
     },
     "execution_count": 142,
     "metadata": {},
     "output_type": "execute_result"
    }
   ],
   "source": [
    "logs_grouped"
   ]
  },
  {
   "cell_type": "markdown",
   "id": "d9479345-4549-45af-81aa-728a50a65516",
   "metadata": {},
   "source": [
    "## Методом agg() посчитали все необходимые значения в одной таблице. Названия столбцов после такого действия стали «двойными». Чтобы обратиться к сумме покупок ['sum'] столбца ['purchase'], просто укажите их подряд:"
   ]
  },
  {
   "cell_type": "code",
   "execution_count": 143,
   "id": "63e6183c-cd1c-48e6-a358-949bfc7b94c3",
   "metadata": {},
   "outputs": [
    {
     "data": {
      "text/plain": [
       "source\n",
       "context    3029\n",
       "email       913\n",
       "other      8041\n",
       "undef        12\n",
       "NaN         108\n",
       "Name: sum, dtype: int64"
      ]
     },
     "execution_count": 143,
     "metadata": {},
     "output_type": "execute_result"
    }
   ],
   "source": [
    "logs_grouped['purchase']['sum'] "
   ]
  },
  {
   "cell_type": "markdown",
   "id": "223e9763-9035-436f-87e2-dd8add64eb61",
   "metadata": {},
   "source": [
    "1.В столбце email встречаются значения NaN — вместо электронных почт пользователей, не подписавшихся на рассылку магазина. <br>Их электронный адрес вы вряд ли узнаете, и не сможете заполнить пропуски вручную. <br>Да и самих NaN слишком много для ручной замены.\n",
    "Тем не менее, избавиться от значений NaN можно, если заменить их единым значением. Например, пустой строкой. Так изучать таблицу будет проще: не нужно будет различать NaN и email-адрес.\n",
    "Замените пропуски пустыми строками, используя знакомый метод fillna(). После этого преобразования выведите на экран первые 5 строк датафрейма."
   ]
  },
  {
   "cell_type": "code",
   "execution_count": 144,
   "id": "980d235a-1bea-4548-8e8e-948a0e3b0892",
   "metadata": {},
   "outputs": [],
   "source": [
    "logs['email']=logs['email'].fillna('')"
   ]
  },
  {
   "cell_type": "code",
   "execution_count": 145,
   "id": "e9b28d66-709e-425d-afc1-1c01f1ee7e79",
   "metadata": {},
   "outputs": [
    {
     "data": {
      "text/html": [
       "<div>\n",
       "<style scoped>\n",
       "    .dataframe tbody tr th:only-of-type {\n",
       "        vertical-align: middle;\n",
       "    }\n",
       "\n",
       "    .dataframe tbody tr th {\n",
       "        vertical-align: top;\n",
       "    }\n",
       "\n",
       "    .dataframe thead th {\n",
       "        text-align: right;\n",
       "    }\n",
       "</style>\n",
       "<table border=\"1\" class=\"dataframe\">\n",
       "  <thead>\n",
       "    <tr style=\"text-align: right;\">\n",
       "      <th></th>\n",
       "      <th>user_id</th>\n",
       "      <th>source</th>\n",
       "      <th>email</th>\n",
       "      <th>purchase</th>\n",
       "    </tr>\n",
       "  </thead>\n",
       "  <tbody>\n",
       "    <tr>\n",
       "      <th>0</th>\n",
       "      <td>7141786820</td>\n",
       "      <td>other</td>\n",
       "      <td></td>\n",
       "      <td>0</td>\n",
       "    </tr>\n",
       "    <tr>\n",
       "      <th>1</th>\n",
       "      <td>5644686960</td>\n",
       "      <td>email</td>\n",
       "      <td>c129aa540a</td>\n",
       "      <td>0</td>\n",
       "    </tr>\n",
       "    <tr>\n",
       "      <th>2</th>\n",
       "      <td>1914055396</td>\n",
       "      <td>context</td>\n",
       "      <td></td>\n",
       "      <td>0</td>\n",
       "    </tr>\n",
       "    <tr>\n",
       "      <th>3</th>\n",
       "      <td>4099355752</td>\n",
       "      <td>other</td>\n",
       "      <td></td>\n",
       "      <td>0</td>\n",
       "    </tr>\n",
       "    <tr>\n",
       "      <th>4</th>\n",
       "      <td>6032477554</td>\n",
       "      <td>context</td>\n",
       "      <td></td>\n",
       "      <td>1</td>\n",
       "    </tr>\n",
       "  </tbody>\n",
       "</table>\n",
       "</div>"
      ],
      "text/plain": [
       "      user_id   source       email  purchase\n",
       "0  7141786820    other                     0\n",
       "1  5644686960    email  c129aa540a         0\n",
       "2  1914055396  context                     0\n",
       "3  4099355752    other                     0\n",
       "4  6032477554  context                     1"
      ]
     },
     "execution_count": 145,
     "metadata": {},
     "output_type": "execute_result"
    }
   ],
   "source": [
    "logs.head()"
   ]
  },
  {
   "cell_type": "markdown",
   "id": "498abff2-c43d-420a-82b7-19838e883b39",
   "metadata": {},
   "source": [
    "2.Пропуски в столбце source записаны в строковом формате — 'None' вместо None. Выясните, случайно ли их возникновение: проверьте, имеет ли каждая строка с источником 'None' определённый email.\n",
    "Для этого примените к датафрейму logs два фильтра:\n",
    "Источник source равен 'None';\n",
    "Значение столбца email равно пустой строке ''.\n",
    "Выведите датафрейм с применёнными фильтрами. Переменную с датафреймом при этом перезаписывать не нужно."
   ]
  },
  {
   "cell_type": "code",
   "execution_count": 146,
   "id": "6302b48d-923d-46b5-b6f7-f9d18381688f",
   "metadata": {},
   "outputs": [
    {
     "data": {
      "text/html": [
       "<div>\n",
       "<style scoped>\n",
       "    .dataframe tbody tr th:only-of-type {\n",
       "        vertical-align: middle;\n",
       "    }\n",
       "\n",
       "    .dataframe tbody tr th {\n",
       "        vertical-align: top;\n",
       "    }\n",
       "\n",
       "    .dataframe thead th {\n",
       "        text-align: right;\n",
       "    }\n",
       "</style>\n",
       "<table border=\"1\" class=\"dataframe\">\n",
       "  <thead>\n",
       "    <tr style=\"text-align: right;\">\n",
       "      <th></th>\n",
       "      <th>user_id</th>\n",
       "      <th>source</th>\n",
       "      <th>email</th>\n",
       "      <th>purchase</th>\n",
       "    </tr>\n",
       "  </thead>\n",
       "  <tbody>\n",
       "  </tbody>\n",
       "</table>\n",
       "</div>"
      ],
      "text/plain": [
       "Empty DataFrame\n",
       "Columns: [user_id, source, email, purchase]\n",
       "Index: []"
      ]
     },
     "execution_count": 146,
     "metadata": {},
     "output_type": "execute_result"
    }
   ],
   "source": [
    "logs[(logs['source']=='None')&(logs['email']=='')]"
   ]
  },
  {
   "cell_type": "code",
   "execution_count": 147,
   "id": "e5f29acc-1a74-4008-9afd-92840f594ced",
   "metadata": {},
   "outputs": [
    {
     "data": {
      "text/html": [
       "<div>\n",
       "<style scoped>\n",
       "    .dataframe tbody tr th:only-of-type {\n",
       "        vertical-align: middle;\n",
       "    }\n",
       "\n",
       "    .dataframe tbody tr th {\n",
       "        vertical-align: top;\n",
       "    }\n",
       "\n",
       "    .dataframe thead th {\n",
       "        text-align: right;\n",
       "    }\n",
       "</style>\n",
       "<table border=\"1\" class=\"dataframe\">\n",
       "  <thead>\n",
       "    <tr style=\"text-align: right;\">\n",
       "      <th></th>\n",
       "      <th>user_id</th>\n",
       "      <th>source</th>\n",
       "      <th>email</th>\n",
       "      <th>purchase</th>\n",
       "    </tr>\n",
       "  </thead>\n",
       "  <tbody>\n",
       "  </tbody>\n",
       "</table>\n",
       "</div>"
      ],
      "text/plain": [
       "Empty DataFrame\n",
       "Columns: [user_id, source, email, purchase]\n",
       "Index: []"
      ]
     },
     "execution_count": 147,
     "metadata": {},
     "output_type": "execute_result"
    }
   ],
   "source": [
    "logs[(logs['source'].isnull())&(logs['email']=='')]"
   ]
  },
  {
   "cell_type": "markdown",
   "id": "be86e4cf-b54f-4910-9fb6-bc3b3afc8204",
   "metadata": {},
   "source": [
    "Датафрейм пуст, пользователи оставляют свой эмейл в случае , когда подписываются на эмейл рассылку. Следовательно в строках с None просто не установлен источник эмейл."
   ]
  },
  {
   "cell_type": "markdown",
   "id": "8a71e7e2-dbd2-4179-bd3c-c0ff9a9e5671",
   "metadata": {},
   "source": [
    "3.Замените пропуски в строках с пустым значением source на значение 'email'. Проверьте результат методом value_counts()."
   ]
  },
  {
   "cell_type": "code",
   "execution_count": 148,
   "id": "f3a5cefd-2869-4dde-941a-5dbc1d36a2a6",
   "metadata": {},
   "outputs": [],
   "source": [
    "logs.loc[logs['source'].isnull(), 'source'] = 'email'\n",
    "logs.loc[logs['source'] == 'None', 'source'] = 'email'"
   ]
  },
  {
   "cell_type": "markdown",
   "id": "a860bb2a-adc6-4332-9cf1-806245dcac48",
   "metadata": {},
   "source": [
    "4.Посчитайте количество визитов и покупок по источнику трафика ('source'). Вызовите метод agg.\n",
    "Сохраните результат в переменной logs_grouped и выведите на экран."
   ]
  },
  {
   "cell_type": "code",
   "execution_count": 149,
   "id": "97313c9e-14f6-49ff-a9be-ff49148c3be3",
   "metadata": {},
   "outputs": [
    {
     "data": {
      "text/html": [
       "<div>\n",
       "<style scoped>\n",
       "    .dataframe tbody tr th:only-of-type {\n",
       "        vertical-align: middle;\n",
       "    }\n",
       "\n",
       "    .dataframe tbody tr th {\n",
       "        vertical-align: top;\n",
       "    }\n",
       "\n",
       "    .dataframe thead tr th {\n",
       "        text-align: left;\n",
       "    }\n",
       "\n",
       "    .dataframe thead tr:last-of-type th {\n",
       "        text-align: right;\n",
       "    }\n",
       "</style>\n",
       "<table border=\"1\" class=\"dataframe\">\n",
       "  <thead>\n",
       "    <tr>\n",
       "      <th></th>\n",
       "      <th colspan=\"2\" halign=\"left\">purchase</th>\n",
       "    </tr>\n",
       "    <tr>\n",
       "      <th></th>\n",
       "      <th>count</th>\n",
       "      <th>sum</th>\n",
       "    </tr>\n",
       "    <tr>\n",
       "      <th>source</th>\n",
       "      <th></th>\n",
       "      <th></th>\n",
       "    </tr>\n",
       "  </thead>\n",
       "  <tbody>\n",
       "    <tr>\n",
       "      <th>context</th>\n",
       "      <td>52032</td>\n",
       "      <td>3029</td>\n",
       "    </tr>\n",
       "    <tr>\n",
       "      <th>email</th>\n",
       "      <td>13953</td>\n",
       "      <td>1021</td>\n",
       "    </tr>\n",
       "    <tr>\n",
       "      <th>other</th>\n",
       "      <td>133834</td>\n",
       "      <td>8041</td>\n",
       "    </tr>\n",
       "    <tr>\n",
       "      <th>undef</th>\n",
       "      <td>181</td>\n",
       "      <td>12</td>\n",
       "    </tr>\n",
       "  </tbody>\n",
       "</table>\n",
       "</div>"
      ],
      "text/plain": [
       "        purchase      \n",
       "           count   sum\n",
       "source                \n",
       "context    52032  3029\n",
       "email      13953  1021\n",
       "other     133834  8041\n",
       "undef        181    12"
      ]
     },
     "execution_count": 149,
     "metadata": {},
     "output_type": "execute_result"
    }
   ],
   "source": [
    "logs_grouped = logs.groupby('source', dropna=False).agg({'purchase': ['count','sum']})\n",
    "logs_grouped"
   ]
  },
  {
   "cell_type": "markdown",
   "id": "947dcfd8-8088-4033-ab7b-0d0b504279b2",
   "metadata": {},
   "source": [
    "5.Посчитайте конверсию визитов в покупки для каждого источника трафика (т. е. отношение столбца sum к count).\n",
    "Сохраните результат в новый столбец logs_grouped['conversion'] и выведите обновлённую таблицу на экран."
   ]
  },
  {
   "cell_type": "code",
   "execution_count": 150,
   "id": "72ab70d9-bc26-4904-b55f-38a0cbc94acf",
   "metadata": {},
   "outputs": [],
   "source": [
    "logs_grouped['conversion'] = logs_grouped['purchase']['sum']/logs_grouped['purchase']['count']  "
   ]
  },
  {
   "cell_type": "code",
   "execution_count": 151,
   "id": "f8081de5-a790-45ba-aa6c-0b72e7254dd0",
   "metadata": {},
   "outputs": [
    {
     "data": {
      "text/html": [
       "<div>\n",
       "<style scoped>\n",
       "    .dataframe tbody tr th:only-of-type {\n",
       "        vertical-align: middle;\n",
       "    }\n",
       "\n",
       "    .dataframe tbody tr th {\n",
       "        vertical-align: top;\n",
       "    }\n",
       "\n",
       "    .dataframe thead tr th {\n",
       "        text-align: left;\n",
       "    }\n",
       "\n",
       "    .dataframe thead tr:last-of-type th {\n",
       "        text-align: right;\n",
       "    }\n",
       "</style>\n",
       "<table border=\"1\" class=\"dataframe\">\n",
       "  <thead>\n",
       "    <tr>\n",
       "      <th></th>\n",
       "      <th colspan=\"2\" halign=\"left\">purchase</th>\n",
       "      <th>conversion</th>\n",
       "    </tr>\n",
       "    <tr>\n",
       "      <th></th>\n",
       "      <th>count</th>\n",
       "      <th>sum</th>\n",
       "      <th></th>\n",
       "    </tr>\n",
       "    <tr>\n",
       "      <th>source</th>\n",
       "      <th></th>\n",
       "      <th></th>\n",
       "      <th></th>\n",
       "    </tr>\n",
       "  </thead>\n",
       "  <tbody>\n",
       "    <tr>\n",
       "      <th>context</th>\n",
       "      <td>52032</td>\n",
       "      <td>3029</td>\n",
       "      <td>0.058214</td>\n",
       "    </tr>\n",
       "    <tr>\n",
       "      <th>email</th>\n",
       "      <td>13953</td>\n",
       "      <td>1021</td>\n",
       "      <td>0.073174</td>\n",
       "    </tr>\n",
       "    <tr>\n",
       "      <th>other</th>\n",
       "      <td>133834</td>\n",
       "      <td>8041</td>\n",
       "      <td>0.060082</td>\n",
       "    </tr>\n",
       "    <tr>\n",
       "      <th>undef</th>\n",
       "      <td>181</td>\n",
       "      <td>12</td>\n",
       "      <td>0.066298</td>\n",
       "    </tr>\n",
       "  </tbody>\n",
       "</table>\n",
       "</div>"
      ],
      "text/plain": [
       "        purchase       conversion\n",
       "           count   sum           \n",
       "source                           \n",
       "context    52032  3029   0.058214\n",
       "email      13953  1021   0.073174\n",
       "other     133834  8041   0.060082\n",
       "undef        181    12   0.066298"
      ]
     },
     "execution_count": 151,
     "metadata": {},
     "output_type": "execute_result"
    }
   ],
   "source": [
    "logs_grouped"
   ]
  },
  {
   "cell_type": "markdown",
   "id": "ecb05b36-afaa-4d20-98b3-cccf58a169e9",
   "metadata": {},
   "source": [
    "Значение конверсии для источника undef близко к источнику other,поэтому результат можно объединить в одну группу."
   ]
  },
  {
   "cell_type": "markdown",
   "id": "b3ba0131-c634-496f-b022-0b37ef8e973c",
   "metadata": {},
   "source": [
    "6.У 'undef' всего 12 покупок. Эта категория на порядки отличается от своих более объёмных конкурентов, и сравнивать их некорректно. Объедините её с одной из «больших» категорий в данных, похожей на 'undef' своей конверсией. Замените значение источника 'undef' на 'other' и посчитайте конверсию в покупки для каждого источника трафика после замены. Выведите logs_grouped на экран."
   ]
  },
  {
   "cell_type": "code",
   "execution_count": 152,
   "id": "a4d2bbcf-218e-476f-9a41-83dd6972139e",
   "metadata": {},
   "outputs": [],
   "source": [
    "logs.loc[logs['source'] == 'undef', 'source'] = 'other'"
   ]
  },
  {
   "cell_type": "code",
   "execution_count": 153,
   "id": "0e07073f-b6d3-4962-841d-03bf643f90bc",
   "metadata": {},
   "outputs": [],
   "source": [
    "logs_grouped['conversion'] = logs_grouped['purchase']['sum']/logs_grouped['purchase']['count']  "
   ]
  },
  {
   "cell_type": "markdown",
   "id": "2ad9709d-1322-4146-a612-93b998390755",
   "metadata": {},
   "source": [
    "# Работа с пропусками в количественных переменных"
   ]
  },
  {
   "cell_type": "markdown",
   "id": "ff9c344f-f625-407c-be58-1a0ddbf10c1d",
   "metadata": {},
   "source": [
    "1.Прочитайте данные из файла metrica_data.csv. Результат сохраните в переменной metrica. Посчитайте средний возраст пользователей и сохраните его в переменной age_avg. Выведите результат на экран. Путь к файлу: /datasets/metrica_data.csv"
   ]
  },
  {
   "cell_type": "code",
   "execution_count": 154,
   "id": "763541fd-1fb6-4e44-8df9-d9da478084e1",
   "metadata": {},
   "outputs": [
    {
     "data": {
      "text/plain": [
       "np.float64(32.48966336969903)"
      ]
     },
     "execution_count": 154,
     "metadata": {},
     "output_type": "execute_result"
    }
   ],
   "source": [
    "metrica = pd.read_csv('F:/Курс аналитик данных яндекс/metrica_data.csv')\n",
    "age_avg = metrica['age'].mean()\n",
    "age_avg"
   ]
  },
  {
   "cell_type": "markdown",
   "id": "3d055437-ddc6-4c30-8090-71f7a3a2d9f8",
   "metadata": {},
   "source": [
    "2.Замените пропущенные значения в столбце age на средний возраст. Выведите на экран первые 10 строк набора данных."
   ]
  },
  {
   "cell_type": "code",
   "execution_count": 155,
   "id": "665d5301-34d8-4498-a853-66f2188d3cc5",
   "metadata": {},
   "outputs": [
    {
     "name": "stdout",
     "output_type": "stream",
     "text": [
      "<class 'pandas.core.frame.DataFrame'>\n",
      "RangeIndex: 100000 entries, 0 to 99999\n",
      "Data columns (total 4 columns):\n",
      " #   Column       Non-Null Count   Dtype  \n",
      "---  ------       --------------   -----  \n",
      " 0   user_id      100000 non-null  int64  \n",
      " 1   device_type  100000 non-null  object \n",
      " 2   age          100000 non-null  float64\n",
      " 3   time         75411 non-null   float64\n",
      "dtypes: float64(2), int64(1), object(1)\n",
      "memory usage: 3.1+ MB\n"
     ]
    }
   ],
   "source": [
    "metrica['age'] = metrica['age'].fillna(age_avg)\n",
    "metrica.info()"
   ]
  },
  {
   "cell_type": "markdown",
   "id": "df30aab7-8db1-4be2-b4bc-33a104756ac2",
   "metadata": {},
   "source": [
    "3.Найдите среднее время просмотра сайта и сохраните в переменной time_avg. Выведите результат на экран."
   ]
  },
  {
   "cell_type": "code",
   "execution_count": 156,
   "id": "b5a1107b-f3c4-40af-b8a3-00b4ae94d9c5",
   "metadata": {},
   "outputs": [
    {
     "data": {
      "text/plain": [
       "np.float64(1430.1294506106535)"
      ]
     },
     "execution_count": 156,
     "metadata": {},
     "output_type": "execute_result"
    }
   ],
   "source": [
    "time_avg = metrica['time'].mean()\n",
    "time_avg"
   ]
  },
  {
   "cell_type": "markdown",
   "id": "52af5833-c3ba-4d0f-b77c-e52a6be4a1d6",
   "metadata": {},
   "source": [
    "4.Можно заменить время на среднее значение. Однако пользователи заходят в интернет то с мобильного устройства, то с компьютера. Учтём этот факт для повышения точности заполнения пропущенных данных о времени на сайте.\n",
    "Выберите строки таблицы с данными о просмотрах с компьютера, т.е. такие, где в столбце 'device_type' указано значение 'desktop'. Сохраните результат в переменной desktop_data и выведите первые 5 строк на экран."
   ]
  },
  {
   "cell_type": "code",
   "execution_count": 157,
   "id": "7eb2aebe-54f7-4a18-9cdc-fe8cd2b5dd22",
   "metadata": {},
   "outputs": [
    {
     "data": {
      "text/html": [
       "<div>\n",
       "<style scoped>\n",
       "    .dataframe tbody tr th:only-of-type {\n",
       "        vertical-align: middle;\n",
       "    }\n",
       "\n",
       "    .dataframe tbody tr th {\n",
       "        vertical-align: top;\n",
       "    }\n",
       "\n",
       "    .dataframe thead th {\n",
       "        text-align: right;\n",
       "    }\n",
       "</style>\n",
       "<table border=\"1\" class=\"dataframe\">\n",
       "  <thead>\n",
       "    <tr style=\"text-align: right;\">\n",
       "      <th></th>\n",
       "      <th>user_id</th>\n",
       "      <th>device_type</th>\n",
       "      <th>age</th>\n",
       "      <th>time</th>\n",
       "    </tr>\n",
       "  </thead>\n",
       "  <tbody>\n",
       "    <tr>\n",
       "      <th>0</th>\n",
       "      <td>7141786820</td>\n",
       "      <td>desktop</td>\n",
       "      <td>33.0</td>\n",
       "      <td>2127.0</td>\n",
       "    </tr>\n",
       "    <tr>\n",
       "      <th>2</th>\n",
       "      <td>1914055396</td>\n",
       "      <td>desktop</td>\n",
       "      <td>25.0</td>\n",
       "      <td>NaN</td>\n",
       "    </tr>\n",
       "    <tr>\n",
       "      <th>3</th>\n",
       "      <td>4099355752</td>\n",
       "      <td>desktop</td>\n",
       "      <td>25.0</td>\n",
       "      <td>2123.0</td>\n",
       "    </tr>\n",
       "    <tr>\n",
       "      <th>4</th>\n",
       "      <td>6032477554</td>\n",
       "      <td>desktop</td>\n",
       "      <td>27.0</td>\n",
       "      <td>59.0</td>\n",
       "    </tr>\n",
       "    <tr>\n",
       "      <th>7</th>\n",
       "      <td>3512872755</td>\n",
       "      <td>desktop</td>\n",
       "      <td>40.0</td>\n",
       "      <td>65.0</td>\n",
       "    </tr>\n",
       "  </tbody>\n",
       "</table>\n",
       "</div>"
      ],
      "text/plain": [
       "      user_id device_type   age    time\n",
       "0  7141786820     desktop  33.0  2127.0\n",
       "2  1914055396     desktop  25.0     NaN\n",
       "3  4099355752     desktop  25.0  2123.0\n",
       "4  6032477554     desktop  27.0    59.0\n",
       "7  3512872755     desktop  40.0    65.0"
      ]
     },
     "execution_count": 157,
     "metadata": {},
     "output_type": "execute_result"
    }
   ],
   "source": [
    "desktop_data = metrica[metrica['device_type'] == 'desktop']\n",
    "desktop_data.head(5)"
   ]
  },
  {
   "cell_type": "markdown",
   "id": "0a81fd31-f561-4f6f-88c6-29f762253fad",
   "metadata": {},
   "source": [
    "5.Установите, сколько времени в среднем проводят на сайте пользователи настольных компьютеров. Результат сохраните в переменной desktop_data_time_avg. Закомментируйте вывод предыдущего задания и выведите значение desktop_data_time_avg на экран."
   ]
  },
  {
   "cell_type": "code",
   "execution_count": 158,
   "id": "9bb286b0-ec78-480a-b59a-eb1b0ec564ce",
   "metadata": {},
   "outputs": [
    {
     "data": {
      "text/plain": [
       "np.float64(1741.8747158537378)"
      ]
     },
     "execution_count": 158,
     "metadata": {},
     "output_type": "execute_result"
    }
   ],
   "source": [
    "desktop_data_time_avg = desktop_data['time'].mean()\n",
    "desktop_data_time_avg"
   ]
  },
  {
   "cell_type": "markdown",
   "id": "6ef7be52-b1c7-4b15-bde2-316d9e229c8a",
   "metadata": {},
   "source": [
    "6.Получите таблицу с данными о просмотрах с мобильных платформ. Сохраните результат в переменной mobile_data и выведите первые 5 строк на экран."
   ]
  },
  {
   "cell_type": "code",
   "execution_count": 159,
   "id": "2518e3b9-7566-4dc7-bc8f-e838b8e56f31",
   "metadata": {},
   "outputs": [
    {
     "data": {
      "text/html": [
       "<div>\n",
       "<style scoped>\n",
       "    .dataframe tbody tr th:only-of-type {\n",
       "        vertical-align: middle;\n",
       "    }\n",
       "\n",
       "    .dataframe tbody tr th {\n",
       "        vertical-align: top;\n",
       "    }\n",
       "\n",
       "    .dataframe thead th {\n",
       "        text-align: right;\n",
       "    }\n",
       "</style>\n",
       "<table border=\"1\" class=\"dataframe\">\n",
       "  <thead>\n",
       "    <tr style=\"text-align: right;\">\n",
       "      <th></th>\n",
       "      <th>user_id</th>\n",
       "      <th>device_type</th>\n",
       "      <th>age</th>\n",
       "      <th>time</th>\n",
       "    </tr>\n",
       "  </thead>\n",
       "  <tbody>\n",
       "    <tr>\n",
       "      <th>1</th>\n",
       "      <td>5644686960</td>\n",
       "      <td>mobile</td>\n",
       "      <td>30.000000</td>\n",
       "      <td>35.0</td>\n",
       "    </tr>\n",
       "    <tr>\n",
       "      <th>5</th>\n",
       "      <td>5872473344</td>\n",
       "      <td>mobile</td>\n",
       "      <td>27.000000</td>\n",
       "      <td>NaN</td>\n",
       "    </tr>\n",
       "    <tr>\n",
       "      <th>6</th>\n",
       "      <td>7977025176</td>\n",
       "      <td>mobile</td>\n",
       "      <td>32.489663</td>\n",
       "      <td>NaN</td>\n",
       "    </tr>\n",
       "    <tr>\n",
       "      <th>10</th>\n",
       "      <td>7172802697</td>\n",
       "      <td>mobile</td>\n",
       "      <td>30.000000</td>\n",
       "      <td>NaN</td>\n",
       "    </tr>\n",
       "    <tr>\n",
       "      <th>14</th>\n",
       "      <td>9312844109</td>\n",
       "      <td>mobile</td>\n",
       "      <td>32.489663</td>\n",
       "      <td>40.0</td>\n",
       "    </tr>\n",
       "  </tbody>\n",
       "</table>\n",
       "</div>"
      ],
      "text/plain": [
       "       user_id device_type        age  time\n",
       "1   5644686960      mobile  30.000000  35.0\n",
       "5   5872473344      mobile  27.000000   NaN\n",
       "6   7977025176      mobile  32.489663   NaN\n",
       "10  7172802697      mobile  30.000000   NaN\n",
       "14  9312844109      mobile  32.489663  40.0"
      ]
     },
     "execution_count": 159,
     "metadata": {},
     "output_type": "execute_result"
    }
   ],
   "source": [
    "mobile_data = metrica[metrica['device_type'] == 'mobile']\n",
    "mobile_data.head(5)"
   ]
  },
  {
   "cell_type": "markdown",
   "id": "e958f495-bdfc-45c5-9720-ad3cd1fbc82f",
   "metadata": {},
   "source": [
    "7.Посчитайте среднее время пребывания на сайте пользователей мобильных платформ. Результат сохраните в переменной mobile_data_time_avg. Закомментируйте вывод предыдущего задания и выведите значение mobile_data_time_avg на экран."
   ]
  },
  {
   "cell_type": "code",
   "execution_count": 160,
   "id": "a193ca7b-8c5b-411c-a541-9cca57b0f5cf",
   "metadata": {},
   "outputs": [
    {
     "data": {
      "text/plain": [
       "np.float64(41.15691239238949)"
      ]
     },
     "execution_count": 160,
     "metadata": {},
     "output_type": "execute_result"
    }
   ],
   "source": [
    "mobile_data_time_avg = mobile_data['time'].mean()\n",
    "mobile_data_time_avg"
   ]
  },
  {
   "cell_type": "markdown",
   "id": "0fa514ce-e4a0-41f2-a5f2-110db2179983",
   "metadata": {},
   "source": [
    "# Как читать файлы из Excel"
   ]
  },
  {
   "cell_type": "markdown",
   "id": "723a801d-4d02-4216-aaca-c91f4b8dc282",
   "metadata": {},
   "source": [
    "1.Методом read_excel() прочтите первый лист 'traffic_data' Выведите на экран первые 5 строк листа методом head(). Прочитайте названия столбцов:\n",
    "subcategory_id — идентификатор товарной подкатегории, или её зашифрованное название;\n",
    "source — источник трафика. В нашем случае источников два: прямой заход на сайт в таблице обозначен как direct, переход из поисковых систем — organic;\n",
    "visits — количество визитов на страницу подкатегории за отчётный период."
   ]
  },
  {
   "cell_type": "code",
   "execution_count": 161,
   "id": "f41c65a1-71c8-4afa-a8f6-282388458f93",
   "metadata": {},
   "outputs": [
    {
     "data": {
      "text/html": [
       "<div>\n",
       "<style scoped>\n",
       "    .dataframe tbody tr th:only-of-type {\n",
       "        vertical-align: middle;\n",
       "    }\n",
       "\n",
       "    .dataframe tbody tr th {\n",
       "        vertical-align: top;\n",
       "    }\n",
       "\n",
       "    .dataframe thead th {\n",
       "        text-align: right;\n",
       "    }\n",
       "</style>\n",
       "<table border=\"1\" class=\"dataframe\">\n",
       "  <thead>\n",
       "    <tr style=\"text-align: right;\">\n",
       "      <th></th>\n",
       "      <th>subcategory_id</th>\n",
       "      <th>source</th>\n",
       "      <th>visits</th>\n",
       "    </tr>\n",
       "  </thead>\n",
       "  <tbody>\n",
       "    <tr>\n",
       "      <th>0</th>\n",
       "      <td>cf2e61c7af</td>\n",
       "      <td>direct</td>\n",
       "      <td>501165.668858</td>\n",
       "    </tr>\n",
       "    <tr>\n",
       "      <th>1</th>\n",
       "      <td>0cd903d1cc</td>\n",
       "      <td>direct</td>\n",
       "      <td>126342.359505</td>\n",
       "    </tr>\n",
       "    <tr>\n",
       "      <th>2</th>\n",
       "      <td>ef35bc88a7</td>\n",
       "      <td>direct</td>\n",
       "      <td>95626.321402</td>\n",
       "    </tr>\n",
       "    <tr>\n",
       "      <th>3</th>\n",
       "      <td>6ff9f4014c</td>\n",
       "      <td>direct</td>\n",
       "      <td>75680.653002</td>\n",
       "    </tr>\n",
       "    <tr>\n",
       "      <th>4</th>\n",
       "      <td>72bc238e4d</td>\n",
       "      <td>direct</td>\n",
       "      <td>64435.934651</td>\n",
       "    </tr>\n",
       "  </tbody>\n",
       "</table>\n",
       "</div>"
      ],
      "text/plain": [
       "  subcategory_id  source         visits\n",
       "0     cf2e61c7af  direct  501165.668858\n",
       "1     0cd903d1cc  direct  126342.359505\n",
       "2     ef35bc88a7  direct   95626.321402\n",
       "3     6ff9f4014c  direct   75680.653002\n",
       "4     72bc238e4d  direct   64435.934651"
      ]
     },
     "execution_count": 161,
     "metadata": {},
     "output_type": "execute_result"
    }
   ],
   "source": [
    "data = pd.read_excel('F:/Курс аналитик данных яндекс/seo_data.xlsx','traffic_data')\n",
    "data.head(5)"
   ]
  },
  {
   "cell_type": "markdown",
   "id": "cd9a74fd-19ee-419f-907f-cc04df9dbd81",
   "metadata": {},
   "source": [
    "2.Пока в первых 5 строчках таблицы виден только один источник трафика direct. Проверьте, какие источники есть в столбце source. Выведите на экран список уникальных значений этого столбца."
   ]
  },
  {
   "cell_type": "code",
   "execution_count": 162,
   "id": "7c5f9c4d-8147-4fb3-822b-b54f468f72b9",
   "metadata": {},
   "outputs": [
    {
     "data": {
      "text/plain": [
       "array(['direct', 'organic'], dtype=object)"
      ]
     },
     "execution_count": 162,
     "metadata": {},
     "output_type": "execute_result"
    }
   ],
   "source": [
    "data['source'].unique()"
   ]
  },
  {
   "cell_type": "markdown",
   "id": "1d7b0abc-6454-46eb-8a2d-3ecc3126dd15",
   "metadata": {},
   "source": [
    "3.Методом read_excel() прочтите второй лист 'subcategory_ids' и сохраните его в переменной subcategory_dict. Выведите на экран его первые 5 строк методом head().\n",
    "Обратите внимание на названия столбцов: к знакомым нам идентификаторам подкатегорий (subcategory_id) добавились идентификаторы категорий (category_id) и названия подкатегорий (subcategory_name).\n",
    "Всё это похоже на словарь, где идентификаторам подкатегорий из цифр и латинских букв соответствуют понятные нам названия. Поэтому датафрейм называется subcategory_dict.\n",
    "Путь к файлу: /datasets/seo_data.xlsx"
   ]
  },
  {
   "cell_type": "code",
   "execution_count": 163,
   "id": "f742ab0f-3ba6-408b-bd43-e5aee2d30e6c",
   "metadata": {},
   "outputs": [
    {
     "data": {
      "text/html": [
       "<div>\n",
       "<style scoped>\n",
       "    .dataframe tbody tr th:only-of-type {\n",
       "        vertical-align: middle;\n",
       "    }\n",
       "\n",
       "    .dataframe tbody tr th {\n",
       "        vertical-align: top;\n",
       "    }\n",
       "\n",
       "    .dataframe thead th {\n",
       "        text-align: right;\n",
       "    }\n",
       "</style>\n",
       "<table border=\"1\" class=\"dataframe\">\n",
       "  <thead>\n",
       "    <tr style=\"text-align: right;\">\n",
       "      <th></th>\n",
       "      <th>subcategory_id</th>\n",
       "      <th>subcategory_name</th>\n",
       "      <th>category_id</th>\n",
       "    </tr>\n",
       "  </thead>\n",
       "  <tbody>\n",
       "    <tr>\n",
       "      <th>0</th>\n",
       "      <td>cf2e61c7af</td>\n",
       "      <td>Мобильные телефоны</td>\n",
       "      <td>09f279a643</td>\n",
       "    </tr>\n",
       "    <tr>\n",
       "      <th>1</th>\n",
       "      <td>0cd903d1cc</td>\n",
       "      <td>Ноутбуки</td>\n",
       "      <td>3509869a61</td>\n",
       "    </tr>\n",
       "    <tr>\n",
       "      <th>2</th>\n",
       "      <td>ef35bc88a7</td>\n",
       "      <td>Телевизоры</td>\n",
       "      <td>09f279a643</td>\n",
       "    </tr>\n",
       "    <tr>\n",
       "      <th>3</th>\n",
       "      <td>6ff9f4014c</td>\n",
       "      <td>Планшеты</td>\n",
       "      <td>3509869a61</td>\n",
       "    </tr>\n",
       "    <tr>\n",
       "      <th>4</th>\n",
       "      <td>72bc238e4d</td>\n",
       "      <td>Наушники и Bluetooth-гарнитуры</td>\n",
       "      <td>09f279a643</td>\n",
       "    </tr>\n",
       "  </tbody>\n",
       "</table>\n",
       "</div>"
      ],
      "text/plain": [
       "  subcategory_id                subcategory_name category_id\n",
       "0     cf2e61c7af              Мобильные телефоны  09f279a643\n",
       "1     0cd903d1cc                        Ноутбуки  3509869a61\n",
       "2     ef35bc88a7                      Телевизоры  09f279a643\n",
       "3     6ff9f4014c                        Планшеты  3509869a61\n",
       "4     72bc238e4d  Наушники и Bluetooth-гарнитуры  09f279a643"
      ]
     },
     "execution_count": 163,
     "metadata": {},
     "output_type": "execute_result"
    }
   ],
   "source": [
    "subcategory_dict = pd.read_excel('F:/Курс аналитик данных яндекс/seo_data.xlsx','subcategory_ids')\n",
    "subcategory_dict.head(5)"
   ]
  },
  {
   "cell_type": "markdown",
   "id": "b314ca3f-443f-499b-ab44-27433574b259",
   "metadata": {},
   "source": [
    "4.Наконец, методом read_excel() прочтём третий лист category_ids и сохраним его в переменной category_dict. Выведите на экран первые 5 строк листа методом head().\n",
    "Путь к файлу: /datasets/seo_data.xlsx"
   ]
  },
  {
   "cell_type": "code",
   "execution_count": 164,
   "id": "b6a1e05f-65f7-4ec4-94ff-3f54654700eb",
   "metadata": {},
   "outputs": [
    {
     "data": {
      "text/html": [
       "<div>\n",
       "<style scoped>\n",
       "    .dataframe tbody tr th:only-of-type {\n",
       "        vertical-align: middle;\n",
       "    }\n",
       "\n",
       "    .dataframe tbody tr th {\n",
       "        vertical-align: top;\n",
       "    }\n",
       "\n",
       "    .dataframe thead th {\n",
       "        text-align: right;\n",
       "    }\n",
       "</style>\n",
       "<table border=\"1\" class=\"dataframe\">\n",
       "  <thead>\n",
       "    <tr style=\"text-align: right;\">\n",
       "      <th></th>\n",
       "      <th>category_id</th>\n",
       "      <th>category_name</th>\n",
       "    </tr>\n",
       "  </thead>\n",
       "  <tbody>\n",
       "    <tr>\n",
       "      <th>0</th>\n",
       "      <td>09f279a643</td>\n",
       "      <td>Электроника</td>\n",
       "    </tr>\n",
       "    <tr>\n",
       "      <th>1</th>\n",
       "      <td>3509869a61</td>\n",
       "      <td>Компьютерная техника</td>\n",
       "    </tr>\n",
       "    <tr>\n",
       "      <th>2</th>\n",
       "      <td>65922fa39c</td>\n",
       "      <td>Авто</td>\n",
       "    </tr>\n",
       "    <tr>\n",
       "      <th>3</th>\n",
       "      <td>6074ad29ac</td>\n",
       "      <td>Одежда, обувь и аксессуары</td>\n",
       "    </tr>\n",
       "    <tr>\n",
       "      <th>4</th>\n",
       "      <td>10a493e03b</td>\n",
       "      <td>Товары для здоровья</td>\n",
       "    </tr>\n",
       "  </tbody>\n",
       "</table>\n",
       "</div>"
      ],
      "text/plain": [
       "  category_id               category_name\n",
       "0  09f279a643                 Электроника\n",
       "1  3509869a61        Компьютерная техника\n",
       "2  65922fa39c                        Авто\n",
       "3  6074ad29ac  Одежда, обувь и аксессуары\n",
       "4  10a493e03b         Товары для здоровья"
      ]
     },
     "execution_count": 164,
     "metadata": {},
     "output_type": "execute_result"
    }
   ],
   "source": [
    "category_dict = pd.read_excel('F:/Курс аналитик данных яндекс/seo_data.xlsx','category_ids')\n",
    "category_dict.head(5)"
   ]
  },
  {
   "cell_type": "markdown",
   "id": "7c4d18c7-c8ce-43cf-a7ea-91c417d47ad1",
   "metadata": {},
   "source": [
    "Данные загружены и выглядят корректными. Нам нужно соотношение прямого и поискового трафика для каждой категории. Оценим, как обстоят дела с поисковой оптимизацией вообще — разделим число визитов по прямым ссылкам на число заходов с поисковиков."
   ]
  },
  {
   "cell_type": "code",
   "execution_count": 165,
   "id": "a8858786-237c-4068-809a-7eef76f85d80",
   "metadata": {},
   "outputs": [
    {
     "data": {
      "text/html": [
       "<div>\n",
       "<style scoped>\n",
       "    .dataframe tbody tr th:only-of-type {\n",
       "        vertical-align: middle;\n",
       "    }\n",
       "\n",
       "    .dataframe tbody tr th {\n",
       "        vertical-align: top;\n",
       "    }\n",
       "\n",
       "    .dataframe thead th {\n",
       "        text-align: right;\n",
       "    }\n",
       "</style>\n",
       "<table border=\"1\" class=\"dataframe\">\n",
       "  <thead>\n",
       "    <tr style=\"text-align: right;\">\n",
       "      <th></th>\n",
       "      <th>subcategory_id</th>\n",
       "      <th>source</th>\n",
       "    </tr>\n",
       "    <tr>\n",
       "      <th>visits</th>\n",
       "      <th></th>\n",
       "      <th></th>\n",
       "    </tr>\n",
       "  </thead>\n",
       "  <tbody>\n",
       "    <tr>\n",
       "      <th>4.606261</th>\n",
       "      <td>075994491e</td>\n",
       "      <td>organic</td>\n",
       "    </tr>\n",
       "    <tr>\n",
       "      <th>9.204211</th>\n",
       "      <td>976642886f</td>\n",
       "      <td>organic</td>\n",
       "    </tr>\n",
       "    <tr>\n",
       "      <th>13.87554</th>\n",
       "      <td>d942687638</td>\n",
       "      <td>organic</td>\n",
       "    </tr>\n",
       "    <tr>\n",
       "      <th>15.640773</th>\n",
       "      <td>c51343bf77</td>\n",
       "      <td>organic</td>\n",
       "    </tr>\n",
       "    <tr>\n",
       "      <th>15.813045</th>\n",
       "      <td>779e246861</td>\n",
       "      <td>organic</td>\n",
       "    </tr>\n",
       "    <tr>\n",
       "      <th>...</th>\n",
       "      <td>...</td>\n",
       "      <td>...</td>\n",
       "    </tr>\n",
       "    <tr>\n",
       "      <th>280406.430598</th>\n",
       "      <td>0cd903d1cc</td>\n",
       "      <td>organic</td>\n",
       "    </tr>\n",
       "    <tr>\n",
       "      <th>501165.668858</th>\n",
       "      <td>cf2e61c7af</td>\n",
       "      <td>direct</td>\n",
       "    </tr>\n",
       "    <tr>\n",
       "      <th>1163658.685476</th>\n",
       "      <td>cf2e61c7af</td>\n",
       "      <td>organic</td>\n",
       "    </tr>\n",
       "    <tr>\n",
       "      <th>\"2369468\"</th>\n",
       "      <td>total</td>\n",
       "      <td>direct</td>\n",
       "    </tr>\n",
       "    <tr>\n",
       "      <th>\"5687882\"</th>\n",
       "      <td>total</td>\n",
       "      <td>organic</td>\n",
       "    </tr>\n",
       "  </tbody>\n",
       "</table>\n",
       "<p>1930 rows × 2 columns</p>\n",
       "</div>"
      ],
      "text/plain": [
       "               subcategory_id   source\n",
       "visits                                \n",
       "4.606261           075994491e  organic\n",
       "9.204211           976642886f  organic\n",
       "13.87554           d942687638  organic\n",
       "15.640773          c51343bf77  organic\n",
       "15.813045          779e246861  organic\n",
       "...                       ...      ...\n",
       "280406.430598      0cd903d1cc  organic\n",
       "501165.668858      cf2e61c7af   direct\n",
       "1163658.685476     cf2e61c7af  organic\n",
       "\"2369468\"               total   direct\n",
       "\"5687882\"               total  organic\n",
       "\n",
       "[1930 rows x 2 columns]"
      ]
     },
     "execution_count": 165,
     "metadata": {},
     "output_type": "execute_result"
    }
   ],
   "source": [
    "data.groupby('visits').sum()"
   ]
  },
  {
   "cell_type": "markdown",
   "id": "827d77f6-d87e-4a27-bdb8-ea43d7970137",
   "metadata": {},
   "source": [
    "Разберитесь, почему сумма визитов не считается. Проверьте тип данных методом info()."
   ]
  },
  {
   "cell_type": "code",
   "execution_count": 166,
   "id": "8288f12c-45ec-41b2-a98b-b6d2cd11a6b1",
   "metadata": {},
   "outputs": [
    {
     "name": "stdout",
     "output_type": "stream",
     "text": [
      "<class 'pandas.core.frame.DataFrame'>\n",
      "RangeIndex: 1930 entries, 0 to 1929\n",
      "Data columns (total 3 columns):\n",
      " #   Column          Non-Null Count  Dtype \n",
      "---  ------          --------------  ----- \n",
      " 0   subcategory_id  1930 non-null   object\n",
      " 1   source          1930 non-null   object\n",
      " 2   visits          1930 non-null   object\n",
      "dtypes: object(3)\n",
      "memory usage: 45.4+ KB\n"
     ]
    }
   ],
   "source": [
    "data.info()"
   ]
  },
  {
   "cell_type": "markdown",
   "id": "3b3122d4-1c81-45bc-ab5c-542329954240",
   "metadata": {},
   "source": [
    "# Перевод строковых значений в числа"
   ]
  },
  {
   "cell_type": "markdown",
   "id": "c82050af-caef-4bca-87b7-f580892339ba",
   "metadata": {},
   "source": [
    "1.Переведите значения столбца 'id' из строк в числа методом to_numeric()."
   ]
  },
  {
   "cell_type": "code",
   "execution_count": 167,
   "id": "645feac0-11e6-4ce6-b42e-01889cf21bf3",
   "metadata": {},
   "outputs": [],
   "source": [
    "transactions = pd.read_excel('F:/Курс аналитик данных яндекс/ids.xlsx')"
   ]
  },
  {
   "cell_type": "code",
   "execution_count": 168,
   "id": "501bd5ab-7cc5-4cd3-b41e-50d70ba8440b",
   "metadata": {},
   "outputs": [
    {
     "data": {
      "text/html": [
       "<div>\n",
       "<style scoped>\n",
       "    .dataframe tbody tr th:only-of-type {\n",
       "        vertical-align: middle;\n",
       "    }\n",
       "\n",
       "    .dataframe tbody tr th {\n",
       "        vertical-align: top;\n",
       "    }\n",
       "\n",
       "    .dataframe thead th {\n",
       "        text-align: right;\n",
       "    }\n",
       "</style>\n",
       "<table border=\"1\" class=\"dataframe\">\n",
       "  <thead>\n",
       "    <tr style=\"text-align: right;\">\n",
       "      <th></th>\n",
       "      <th>id</th>\n",
       "      <th>category</th>\n",
       "      <th>amount</th>\n",
       "    </tr>\n",
       "  </thead>\n",
       "  <tbody>\n",
       "    <tr>\n",
       "      <th>0</th>\n",
       "      <td>600748331392</td>\n",
       "      <td>C</td>\n",
       "      <td>17515.36</td>\n",
       "    </tr>\n",
       "    <tr>\n",
       "      <th>1</th>\n",
       "      <td>600748331404</td>\n",
       "      <td>B</td>\n",
       "      <td>10117.56</td>\n",
       "    </tr>\n",
       "    <tr>\n",
       "      <th>2</th>\n",
       "      <td>600748331412</td>\n",
       "      <td>B</td>\n",
       "      <td>18489.26</td>\n",
       "    </tr>\n",
       "    <tr>\n",
       "      <th>3</th>\n",
       "      <td>600748331430</td>\n",
       "      <td>B</td>\n",
       "      <td>6620.22</td>\n",
       "    </tr>\n",
       "    <tr>\n",
       "      <th>4</th>\n",
       "      <td>600748331447</td>\n",
       "      <td>C</td>\n",
       "      <td>7559.9</td>\n",
       "    </tr>\n",
       "  </tbody>\n",
       "</table>\n",
       "</div>"
      ],
      "text/plain": [
       "             id category    amount\n",
       "0  600748331392        C  17515.36\n",
       "1  600748331404        B  10117.56\n",
       "2  600748331412        B  18489.26\n",
       "3  600748331430        B   6620.22\n",
       "4  600748331447        C    7559.9"
      ]
     },
     "execution_count": 168,
     "metadata": {},
     "output_type": "execute_result"
    }
   ],
   "source": [
    "transactions.head(5)"
   ]
  },
  {
   "cell_type": "code",
   "execution_count": 169,
   "id": "edbe0760-b69f-40ef-a783-776cbd0c8b10",
   "metadata": {},
   "outputs": [
    {
     "name": "stdout",
     "output_type": "stream",
     "text": [
      "Ошибка: Unable to parse string \"Null\" at position 48\n",
      "<class 'pandas.core.frame.DataFrame'>\n",
      "RangeIndex: 49 entries, 0 to 48\n",
      "Data columns (total 3 columns):\n",
      " #   Column    Non-Null Count  Dtype \n",
      "---  ------    --------------  ----- \n",
      " 0   id        49 non-null     object\n",
      " 1   category  49 non-null     object\n",
      " 2   amount    49 non-null     object\n",
      "dtypes: object(3)\n",
      "memory usage: 1.3+ KB\n"
     ]
    }
   ],
   "source": [
    "try:\n",
    "    # Попытка преобразования в числовой тип\n",
    "    transactions['id'] = pd.to_numeric(transactions['id'])\n",
    "except ValueError as e:\n",
    "    # Обработка ошибки и вывод её текста\n",
    "    print(f\"Ошибка: {e}\")\n",
    "\n",
    "# Проверяем выполнение следующей команды\n",
    "transactions.info()"
   ]
  },
  {
   "cell_type": "markdown",
   "id": "f876afe1-8be4-43e3-8af5-0eb8fcfaf3c7",
   "metadata": {},
   "source": [
    "2.Попробуйте ещё раз перевести значения столбца 'id' из строк в числа методом to_numeric(), но уже со значением 'coerce' параметра errors. Это заменит вызывающий ошибку Null на NaN.\n",
    "Полученную таблицу выведите на экран методом tail(): так как ошибка возникает на последней строке, 5 значений с конца будет достаточно."
   ]
  },
  {
   "cell_type": "code",
   "execution_count": 170,
   "id": "8c4a2b26-f4ff-4783-bcbd-c1092cb4c2a3",
   "metadata": {},
   "outputs": [
    {
     "data": {
      "text/html": [
       "<div>\n",
       "<style scoped>\n",
       "    .dataframe tbody tr th:only-of-type {\n",
       "        vertical-align: middle;\n",
       "    }\n",
       "\n",
       "    .dataframe tbody tr th {\n",
       "        vertical-align: top;\n",
       "    }\n",
       "\n",
       "    .dataframe thead th {\n",
       "        text-align: right;\n",
       "    }\n",
       "</style>\n",
       "<table border=\"1\" class=\"dataframe\">\n",
       "  <thead>\n",
       "    <tr style=\"text-align: right;\">\n",
       "      <th></th>\n",
       "      <th>id</th>\n",
       "      <th>category</th>\n",
       "      <th>amount</th>\n",
       "    </tr>\n",
       "  </thead>\n",
       "  <tbody>\n",
       "    <tr>\n",
       "      <th>44</th>\n",
       "      <td>6.007483e+11</td>\n",
       "      <td>A</td>\n",
       "      <td>8958.23</td>\n",
       "    </tr>\n",
       "    <tr>\n",
       "      <th>45</th>\n",
       "      <td>6.007483e+11</td>\n",
       "      <td>C</td>\n",
       "      <td>12771.1</td>\n",
       "    </tr>\n",
       "    <tr>\n",
       "      <th>46</th>\n",
       "      <td>6.007483e+11</td>\n",
       "      <td>E</td>\n",
       "      <td>9630.56</td>\n",
       "    </tr>\n",
       "    <tr>\n",
       "      <th>47</th>\n",
       "      <td>6.007483e+11</td>\n",
       "      <td>Null</td>\n",
       "      <td>Null</td>\n",
       "    </tr>\n",
       "    <tr>\n",
       "      <th>48</th>\n",
       "      <td>NaN</td>\n",
       "      <td>A</td>\n",
       "      <td>14327.22</td>\n",
       "    </tr>\n",
       "  </tbody>\n",
       "</table>\n",
       "</div>"
      ],
      "text/plain": [
       "              id category    amount\n",
       "44  6.007483e+11        A   8958.23\n",
       "45  6.007483e+11        C   12771.1\n",
       "46  6.007483e+11        E   9630.56\n",
       "47  6.007483e+11     Null      Null\n",
       "48           NaN        A  14327.22"
      ]
     },
     "execution_count": 170,
     "metadata": {},
     "output_type": "execute_result"
    }
   ],
   "source": [
    "transactions['id'] = pd.to_numeric(transactions['id'],errors='coerce')\n",
    "transactions.tail()"
   ]
  },
  {
   "cell_type": "markdown",
   "id": "c4160fbf-237d-451e-aed3-31132a5ec38a",
   "metadata": {},
   "source": [
    "3.Вызовите метод info() после преобразований ещё раз. Проверьте, повлияла ли работа pd.to_numeric(transactions['id'], errors='coerce') на тип значений в столбце id."
   ]
  },
  {
   "cell_type": "code",
   "execution_count": 171,
   "id": "69337569-ca63-47f1-a519-05177a1633c8",
   "metadata": {},
   "outputs": [
    {
     "name": "stdout",
     "output_type": "stream",
     "text": [
      "<class 'pandas.core.frame.DataFrame'>\n",
      "RangeIndex: 49 entries, 0 to 48\n",
      "Data columns (total 3 columns):\n",
      " #   Column    Non-Null Count  Dtype  \n",
      "---  ------    --------------  -----  \n",
      " 0   id        48 non-null     float64\n",
      " 1   category  49 non-null     object \n",
      " 2   amount    49 non-null     object \n",
      "dtypes: float64(1), object(2)\n",
      "memory usage: 1.3+ KB\n"
     ]
    }
   ],
   "source": [
    "transactions.info()"
   ]
  },
  {
   "cell_type": "markdown",
   "id": "b431c519-3733-4da7-8f54-7e4509e1de20",
   "metadata": {},
   "source": [
    "4.Методом to_numeric() превратите значения столбца amount в числа, заменив некорректные значения на NaN. Проверьте результаты преобразований методом info()."
   ]
  },
  {
   "cell_type": "code",
   "execution_count": 172,
   "id": "490f0752-af00-45ff-a685-dbda300187cc",
   "metadata": {},
   "outputs": [
    {
     "name": "stdout",
     "output_type": "stream",
     "text": [
      "<class 'pandas.core.frame.DataFrame'>\n",
      "RangeIndex: 49 entries, 0 to 48\n",
      "Data columns (total 3 columns):\n",
      " #   Column    Non-Null Count  Dtype  \n",
      "---  ------    --------------  -----  \n",
      " 0   id        48 non-null     float64\n",
      " 1   category  49 non-null     object \n",
      " 2   amount    45 non-null     float64\n",
      "dtypes: float64(2), object(1)\n",
      "memory usage: 1.3+ KB\n"
     ]
    }
   ],
   "source": [
    "transactions['amount'] = pd.to_numeric(transactions['amount'],errors='coerce')\n",
    "transactions.info()"
   ]
  },
  {
   "cell_type": "markdown",
   "id": "fb908b11-ae49-4f32-a142-395f8c16382c",
   "metadata": {},
   "source": [
    "5.Посчитайте общую стоимость проданных товаров — сумму значений столбца amount в датафрейме transactions. Результат выведите на экран."
   ]
  },
  {
   "cell_type": "code",
   "execution_count": 173,
   "id": "61c23ade-3bd0-41c8-869d-eb9345ae9368",
   "metadata": {},
   "outputs": [
    {
     "data": {
      "text/plain": [
       "np.float64(596107.1)"
      ]
     },
     "execution_count": 173,
     "metadata": {},
     "output_type": "execute_result"
    }
   ],
   "source": [
    "transactions['amount'].sum()"
   ]
  },
  {
   "cell_type": "markdown",
   "id": "946057ac-acf2-4566-a959-f4b9847ffbf9",
   "metadata": {},
   "source": [
    "6.Рассчитайте сумму продаж для каждой категории. Для этого сгруппируйте датафрейм transactions по столбцу category и примените метод sum() к столбцу amount. Выведите результат на экран."
   ]
  },
  {
   "cell_type": "code",
   "execution_count": 174,
   "id": "f514daf6-5ed9-4bfd-aa86-d9a94025de17",
   "metadata": {},
   "outputs": [
    {
     "data": {
      "text/plain": [
       "category\n",
       "A       133988.50\n",
       "B       168617.89\n",
       "C       173332.50\n",
       "D        62630.82\n",
       "E        57537.39\n",
       "Null         0.00\n",
       "Name: amount, dtype: float64"
      ]
     },
     "execution_count": 174,
     "metadata": {},
     "output_type": "execute_result"
    }
   ],
   "source": [
    "transactions.groupby('category')['amount'].sum()"
   ]
  },
  {
   "cell_type": "markdown",
   "id": "f6a0d69c-4b81-4c16-89ab-cabb614a3ee1",
   "metadata": {},
   "source": [
    "7.Вернитесь к таблице с трафиком: вы сможете найти сумму визитов.\n",
    "Раньше вместо неё получались склеенные названия категорий, а столбец visits определялся как строковый (тип object).\n",
    "Переведите значения столбца visits датафрейма data в числовой тип методом to_numeric()."
   ]
  },
  {
   "cell_type": "code",
   "execution_count": 175,
   "id": "fe67443e-d330-47b5-9398-acfa06b1fa5f",
   "metadata": {},
   "outputs": [],
   "source": [
    "data['visits'] = pd.to_numeric(data['visits'],errors ='coerce')"
   ]
  },
  {
   "cell_type": "markdown",
   "id": "b554486e-4711-4b76-b181-296a7f9342e3",
   "metadata": {},
   "source": [
    "8.Узнайте, что не так со строкой 964. Вызовите знакомый из вводного курса метод loc.\n",
    "Он позволяет обращаться к датафрейму по значению индекса, в нашем случае как раз по номеру строки."
   ]
  },
  {
   "cell_type": "code",
   "execution_count": 176,
   "id": "ce05545f-b1c3-4213-b149-7a46e1d1c99b",
   "metadata": {},
   "outputs": [
    {
     "name": "stdout",
     "output_type": "stream",
     "text": [
      "subcategory_id     total\n",
      "source            direct\n",
      "visits               NaN\n",
      "Name: 964, dtype: object\n"
     ]
    }
   ],
   "source": [
    "print(data.loc[964])"
   ]
  },
  {
   "cell_type": "markdown",
   "id": "1afb7241-7ed3-4318-9350-b6ee76e8182f",
   "metadata": {},
   "source": [
    "9.Вычислите, сколько всего строк в датафрейме и выведите на экран в формате:\n",
    "Количество строк: 1000\n",
    "Затем выведите на экран строки, которые имеют значение 'total' в столбце 'subcategory_id'. Изучите полученные результаты: сколько строк портят весь датасет?"
   ]
  },
  {
   "cell_type": "code",
   "execution_count": 177,
   "id": "b781cad4-bf66-43c7-b70e-76b935e8f269",
   "metadata": {},
   "outputs": [
    {
     "name": "stdout",
     "output_type": "stream",
     "text": [
      "Количество строк: 1930\n",
      "Количество строк: 1930\n"
     ]
    }
   ],
   "source": [
    "print(f'Количество строк: {len(data[\"subcategory_id\"])}')\n",
    "print(f'Количество строк: {data.shape[0]}')"
   ]
  },
  {
   "cell_type": "code",
   "execution_count": 178,
   "id": "1d3963e1-fc3a-478d-b205-551c326017db",
   "metadata": {},
   "outputs": [
    {
     "data": {
      "text/html": [
       "<div>\n",
       "<style scoped>\n",
       "    .dataframe tbody tr th:only-of-type {\n",
       "        vertical-align: middle;\n",
       "    }\n",
       "\n",
       "    .dataframe tbody tr th {\n",
       "        vertical-align: top;\n",
       "    }\n",
       "\n",
       "    .dataframe thead th {\n",
       "        text-align: right;\n",
       "    }\n",
       "</style>\n",
       "<table border=\"1\" class=\"dataframe\">\n",
       "  <thead>\n",
       "    <tr style=\"text-align: right;\">\n",
       "      <th></th>\n",
       "      <th>subcategory_id</th>\n",
       "      <th>source</th>\n",
       "      <th>visits</th>\n",
       "    </tr>\n",
       "  </thead>\n",
       "  <tbody>\n",
       "    <tr>\n",
       "      <th>964</th>\n",
       "      <td>total</td>\n",
       "      <td>direct</td>\n",
       "      <td>NaN</td>\n",
       "    </tr>\n",
       "    <tr>\n",
       "      <th>1929</th>\n",
       "      <td>total</td>\n",
       "      <td>organic</td>\n",
       "      <td>NaN</td>\n",
       "    </tr>\n",
       "  </tbody>\n",
       "</table>\n",
       "</div>"
      ],
      "text/plain": [
       "     subcategory_id   source  visits\n",
       "964           total   direct     NaN\n",
       "1929          total  organic     NaN"
      ]
     },
     "execution_count": 178,
     "metadata": {},
     "output_type": "execute_result"
    }
   ],
   "source": [
    "data[data['subcategory_id'] == \"total\"]"
   ]
  },
  {
   "cell_type": "code",
   "execution_count": 179,
   "id": "08877c74-f150-4390-88e7-f20ee80fac18",
   "metadata": {},
   "outputs": [
    {
     "name": "stdout",
     "output_type": "stream",
     "text": [
      "<class 'pandas.core.frame.DataFrame'>\n",
      "RangeIndex: 1930 entries, 0 to 1929\n",
      "Data columns (total 3 columns):\n",
      " #   Column          Non-Null Count  Dtype  \n",
      "---  ------          --------------  -----  \n",
      " 0   subcategory_id  1930 non-null   object \n",
      " 1   source          1930 non-null   object \n",
      " 2   visits          1928 non-null   float64\n",
      "dtypes: float64(1), object(2)\n",
      "memory usage: 45.4+ KB\n"
     ]
    }
   ],
   "source": [
    "data.info()"
   ]
  },
  {
   "cell_type": "markdown",
   "id": "524432d7-94eb-4544-9fef-37053d52eaf7",
   "metadata": {},
   "source": [
    "10.\n",
    "Оставьте в датафрейме только строки, удовлетворяющие условию data['subcategory_id'] != 'total'. Проверьте результат: выведите на экран датафрейм с условием data['subcategory_id'] == 'total'."
   ]
  },
  {
   "cell_type": "code",
   "execution_count": 180,
   "id": "eb18d3db-503b-4535-856d-8eb129422c4b",
   "metadata": {},
   "outputs": [
    {
     "data": {
      "text/html": [
       "<div>\n",
       "<style scoped>\n",
       "    .dataframe tbody tr th:only-of-type {\n",
       "        vertical-align: middle;\n",
       "    }\n",
       "\n",
       "    .dataframe tbody tr th {\n",
       "        vertical-align: top;\n",
       "    }\n",
       "\n",
       "    .dataframe thead th {\n",
       "        text-align: right;\n",
       "    }\n",
       "</style>\n",
       "<table border=\"1\" class=\"dataframe\">\n",
       "  <thead>\n",
       "    <tr style=\"text-align: right;\">\n",
       "      <th></th>\n",
       "      <th>subcategory_id</th>\n",
       "      <th>source</th>\n",
       "      <th>visits</th>\n",
       "    </tr>\n",
       "  </thead>\n",
       "  <tbody>\n",
       "    <tr>\n",
       "      <th>964</th>\n",
       "      <td>total</td>\n",
       "      <td>direct</td>\n",
       "      <td>NaN</td>\n",
       "    </tr>\n",
       "    <tr>\n",
       "      <th>1929</th>\n",
       "      <td>total</td>\n",
       "      <td>organic</td>\n",
       "      <td>NaN</td>\n",
       "    </tr>\n",
       "  </tbody>\n",
       "</table>\n",
       "</div>"
      ],
      "text/plain": [
       "     subcategory_id   source  visits\n",
       "964           total   direct     NaN\n",
       "1929          total  organic     NaN"
      ]
     },
     "execution_count": 180,
     "metadata": {},
     "output_type": "execute_result"
    }
   ],
   "source": [
    "data[data['subcategory_id'] == \"total\"]"
   ]
  },
  {
   "cell_type": "markdown",
   "id": "a76008a4-6830-4b78-930d-3438fad47fcc",
   "metadata": {},
   "source": [
    "11.Измените тип данных в столбце ['visits'] на integer. Проверьте полученный результат, вызвав метод info()."
   ]
  },
  {
   "cell_type": "code",
   "execution_count": 181,
   "id": "b3eda19a-9cb4-4525-a503-f06999808e5f",
   "metadata": {},
   "outputs": [
    {
     "name": "stdout",
     "output_type": "stream",
     "text": [
      "<class 'pandas.core.frame.DataFrame'>\n",
      "RangeIndex: 1930 entries, 0 to 1929\n",
      "Data columns (total 3 columns):\n",
      " #   Column          Non-Null Count  Dtype \n",
      "---  ------          --------------  ----- \n",
      " 0   subcategory_id  1930 non-null   object\n",
      " 1   source          1930 non-null   object\n",
      " 2   visits          1930 non-null   int64 \n",
      "dtypes: int64(1), object(2)\n",
      "memory usage: 45.4+ KB\n"
     ]
    }
   ],
   "source": [
    "data = data.fillna(0)\n",
    "data['visits'] = data['visits'].astype(int)\n",
    "data.info()"
   ]
  },
  {
   "cell_type": "markdown",
   "id": "29d28233-e394-4192-a001-3559ccb27863",
   "metadata": {},
   "source": [
    "12.Сгруппируйте данные по источникам и вычислите количество визитов для каждого источника. Выведите результат на экран."
   ]
  },
  {
   "cell_type": "code",
   "execution_count": 182,
   "id": "5552b0e5-8302-4e08-aa27-f3e579c6f7b2",
   "metadata": {},
   "outputs": [
    {
     "data": {
      "text/plain": [
       "source\n",
       "direct     2368980\n",
       "organic    5687407\n",
       "Name: visits, dtype: int64"
      ]
     },
     "execution_count": 182,
     "metadata": {},
     "output_type": "execute_result"
    }
   ],
   "source": [
    "data.groupby('source')['visits'].sum()"
   ]
  },
  {
   "cell_type": "markdown",
   "id": "ef9bd3e0-83bb-4dcc-94dd-ef65250dfd19",
   "metadata": {},
   "source": [
    "# Исследовательский анализ данных"
   ]
  },
  {
   "cell_type": "markdown",
   "id": "86181af2-e503-47e9-a62e-0cbbce2f3e61",
   "metadata": {},
   "source": [
    "Прочитайте файл visits.csv, указав как разделитель знак табуляции: '\\t', и сохраните результат в датафрейме data. Выведите его первые пять строк.\n",
    "Путь к файлу: /datasets/visits.csv"
   ]
  },
  {
   "cell_type": "code",
   "execution_count": 183,
   "id": "bc9dc3e4-92e0-4ce9-bd26-5277043fe55d",
   "metadata": {},
   "outputs": [],
   "source": [
    " visits = pd.read_csv('F:/Курс аналитик данных яндекс/visits.csv', sep='\\t') "
   ]
  },
  {
   "cell_type": "code",
   "execution_count": 184,
   "id": "d2e41594-9b2b-4703-810d-bfcf17a99694",
   "metadata": {},
   "outputs": [
    {
     "data": {
      "text/html": [
       "<div>\n",
       "<style scoped>\n",
       "    .dataframe tbody tr th:only-of-type {\n",
       "        vertical-align: middle;\n",
       "    }\n",
       "\n",
       "    .dataframe tbody tr th {\n",
       "        vertical-align: top;\n",
       "    }\n",
       "\n",
       "    .dataframe thead th {\n",
       "        text-align: right;\n",
       "    }\n",
       "</style>\n",
       "<table border=\"1\" class=\"dataframe\">\n",
       "  <thead>\n",
       "    <tr style=\"text-align: right;\">\n",
       "      <th></th>\n",
       "      <th>date_time</th>\n",
       "      <th>id</th>\n",
       "      <th>time_spent</th>\n",
       "      <th>name</th>\n",
       "    </tr>\n",
       "  </thead>\n",
       "  <tbody>\n",
       "    <tr>\n",
       "      <th>0</th>\n",
       "      <td>20180406T165358</td>\n",
       "      <td>76144fb2</td>\n",
       "      <td>98.0</td>\n",
       "      <td>Василёк</td>\n",
       "    </tr>\n",
       "    <tr>\n",
       "      <th>1</th>\n",
       "      <td>20180404T173913</td>\n",
       "      <td>76144fb2</td>\n",
       "      <td>15.0</td>\n",
       "      <td>Василёк</td>\n",
       "    </tr>\n",
       "  </tbody>\n",
       "</table>\n",
       "</div>"
      ],
      "text/plain": [
       "         date_time        id  time_spent     name\n",
       "0  20180406T165358  76144fb2        98.0  Василёк\n",
       "1  20180404T173913  76144fb2        15.0  Василёк"
      ]
     },
     "execution_count": 184,
     "metadata": {},
     "output_type": "execute_result"
    }
   ],
   "source": [
    "visits.head(2)"
   ]
  },
  {
   "cell_type": "markdown",
   "id": "5e0b522b-4950-48de-9afd-2d230e4961e6",
   "metadata": {},
   "source": [
    "# Сводные таблицы для расчёта среднего"
   ]
  },
  {
   "cell_type": "markdown",
   "id": "5e7434e0-f3e6-43f9-ba0f-f595e2485e4c",
   "metadata": {},
   "source": [
    "Посчитайте среднее время заправки в секундах ('time_spent') для каждой из сетей ('name'), применяя метод pivot_table(). Датафрейм сохраните в переменной name_stat и выведите на экран."
   ]
  },
  {
   "cell_type": "code",
   "execution_count": 185,
   "id": "45d2bce8-561c-42dc-a58f-4e5f3a4c1b6e",
   "metadata": {},
   "outputs": [],
   "source": [
    "name_stat = visits.pivot_table(index = 'name', values = 'time_spent',aggfunc = 'mean')"
   ]
  },
  {
   "cell_type": "code",
   "execution_count": 186,
   "id": "9fc3ce60-4745-4abf-91d8-28b84b7c5e3d",
   "metadata": {},
   "outputs": [
    {
     "data": {
      "text/html": [
       "<div>\n",
       "<style scoped>\n",
       "    .dataframe tbody tr th:only-of-type {\n",
       "        vertical-align: middle;\n",
       "    }\n",
       "\n",
       "    .dataframe tbody tr th {\n",
       "        vertical-align: top;\n",
       "    }\n",
       "\n",
       "    .dataframe thead th {\n",
       "        text-align: right;\n",
       "    }\n",
       "</style>\n",
       "<table border=\"1\" class=\"dataframe\">\n",
       "  <thead>\n",
       "    <tr style=\"text-align: right;\">\n",
       "      <th></th>\n",
       "      <th>time_spent</th>\n",
       "    </tr>\n",
       "    <tr>\n",
       "      <th>name</th>\n",
       "      <th></th>\n",
       "    </tr>\n",
       "  </thead>\n",
       "  <tbody>\n",
       "    <tr>\n",
       "      <th>Агератум</th>\n",
       "      <td>337.802721</td>\n",
       "    </tr>\n",
       "    <tr>\n",
       "      <th>Амарант</th>\n",
       "      <td>132.760012</td>\n",
       "    </tr>\n",
       "    <tr>\n",
       "      <th>Аммобиум</th>\n",
       "      <td>256.708042</td>\n",
       "    </tr>\n",
       "  </tbody>\n",
       "</table>\n",
       "</div>"
      ],
      "text/plain": [
       "          time_spent\n",
       "name                \n",
       "Агератум  337.802721\n",
       "Амарант   132.760012\n",
       "Аммобиум  256.708042"
      ]
     },
     "execution_count": 186,
     "metadata": {},
     "output_type": "execute_result"
    }
   ],
   "source": [
    "name_stat.head(3)"
   ]
  },
  {
   "cell_type": "markdown",
   "id": "9da37f48-ce17-418e-8e4f-049fc12e51d5",
   "metadata": {},
   "source": [
    "1.Сколько было заездов на АЗС? Сохраните число строк датафрейма в переменной total_visits. Результат выведите на экран так:"
   ]
  },
  {
   "cell_type": "code",
   "execution_count": 187,
   "id": "f7fccd07-8559-4af8-876c-4542a31afe9c",
   "metadata": {},
   "outputs": [],
   "source": [
    "total_visits = visits['id'].count()"
   ]
  },
  {
   "cell_type": "code",
   "execution_count": 188,
   "id": "b96ae617-3256-418d-9399-7fdb6a5c255f",
   "metadata": {},
   "outputs": [
    {
     "name": "stdout",
     "output_type": "stream",
     "text": [
      "Количество визитов 317104\n"
     ]
    }
   ],
   "source": [
    "print(f'Количество визитов {total_visits}')"
   ]
  },
  {
   "cell_type": "markdown",
   "id": "bc7ed329-062c-47c4-a82c-c7fe65a17f2d",
   "metadata": {},
   "source": [
    "2.Найдите количество охваченных исследованием АЗС. Сохраните его в переменной total_stations, результат на экран выведите так:"
   ]
  },
  {
   "cell_type": "code",
   "execution_count": 189,
   "id": "3a0f29b0-1805-4e0a-a9e2-05370dbc2c17",
   "metadata": {},
   "outputs": [
    {
     "name": "stdout",
     "output_type": "stream",
     "text": [
      "Количество станций 471\n"
     ]
    }
   ],
   "source": [
    "total_stations= len(visits['id'].unique())\n",
    "print(f'Количество станций {total_stations}')"
   ]
  },
  {
   "cell_type": "markdown",
   "id": "afcda3ed-7281-4d14-bbec-3ce0099288d1",
   "metadata": {},
   "source": [
    "3.Выведите на экран дату и время первого и последнего заезда на АЗС через пробел. Без объявления новых переменных, примените методы min() и max() к значениям столбца data['date_time'] в аргументе функции print().\n",
    "Вывод должен выглядеть так: 20180402T000008 20180408T235957."
   ]
  },
  {
   "cell_type": "code",
   "execution_count": 190,
   "id": "22f71f01-c8f6-42f7-85b3-3f953dde06c6",
   "metadata": {},
   "outputs": [
    {
     "name": "stdout",
     "output_type": "stream",
     "text": [
      "Первый заезд на АЗС 20180402T000008\n",
      "Последний заезд на АЗС 20180408T235957\n"
     ]
    }
   ],
   "source": [
    "print(f'Первый заезд на АЗС {visits[\"date_time\"].min()}')\n",
    "print(f'Последний заезд на АЗС {visits[\"date_time\"].max()}')"
   ]
  },
  {
   "cell_type": "markdown",
   "id": "b4e93b29-840c-4501-8f66-1852513e0f1b",
   "metadata": {},
   "source": [
    "4.Данные собраны за 7 дней — сохраните это значение в переменной total_days.\n",
    "Найдите среднее число заездов на одну АЗС за 1 день. Сохраните результат вычислений в переменной station_visits_per_day и выведите её на экран в следующем виде:"
   ]
  },
  {
   "cell_type": "code",
   "execution_count": 191,
   "id": "e1e2e0f8-77b9-4ede-8e95-8cb97877280d",
   "metadata": {},
   "outputs": [
    {
     "name": "stdout",
     "output_type": "stream",
     "text": [
      "Количество заездов на АЗС в сутки: 96.17955717318775\n"
     ]
    }
   ],
   "source": [
    "total_days = 7\n",
    "station_visits_per_day = total_visits/total_stations/total_days\n",
    "print(f'Количество заездов на АЗС в сутки: {station_visits_per_day}')"
   ]
  },
  {
   "cell_type": "markdown",
   "id": "24d09397-6966-4f81-ac56-bcb15bc54ed4",
   "metadata": {},
   "source": [
    "5.Проверьте распределение числа заездов по сетям АЗС. Распечатайте топ-10 сетей с наибольшим числом заездов. В каждой строке должно быть название сети и число заездов.\n",
    "Результат выведите в функции print()."
   ]
  },
  {
   "cell_type": "code",
   "execution_count": 192,
   "id": "174ef19e-733b-4942-a87c-daa7e6cf4663",
   "metadata": {},
   "outputs": [
    {
     "name": "stdout",
     "output_type": "stream",
     "text": [
      "name\n",
      "Календула      85648\n",
      "Василёк        79006\n",
      "Георгина       34356\n",
      "Немезия        20138\n",
      "Колокольчик    18835\n",
      "Мальва         17386\n",
      "Гейхера        14125\n",
      "Доротеантус     6312\n",
      "Нарцисс         3640\n",
      "Амарант         3221\n",
      "Name: count, dtype: int64\n"
     ]
    }
   ],
   "source": [
    "name_stat = visits.pivot_table(index = 'name', values = 'id',aggfunc = 'count')\n",
    "sorted_pivot = name_stat.sort_values(by='id', ascending=False)\n",
    "sorted_pivot.head(10)\n",
    "data_name = visits['name'].value_counts().sort_values(ascending=False)\n",
    "print(data_name.head(10))"
   ]
  },
  {
   "cell_type": "markdown",
   "id": "8b7db873-e814-471b-a1d4-a3a82fbb7f25",
   "metadata": {},
   "source": [
    "# Гистограмма"
   ]
  },
  {
   "cell_type": "markdown",
   "id": "c1638c6c-b7bd-4771-b2ce-a6471dba0c63",
   "metadata": {},
   "source": [
    "1.Выведите гистограмму значений времени, проведённого на АЗС."
   ]
  },
  {
   "cell_type": "code",
   "execution_count": 193,
   "id": "a2f7c2ac-f9ed-4083-a313-e14e6396a2f9",
   "metadata": {},
   "outputs": [
    {
     "data": {
      "text/plain": [
       "<Axes: >"
      ]
     },
     "execution_count": 193,
     "metadata": {},
     "output_type": "execute_result"
    },
    {
     "data": {
      "image/png": "[encoded data removed]",
      "text/plain": [
       "<Figure size 640x480 with 1 Axes>"
      ]
     },
     "metadata": {},
     "output_type": "display_data"
    }
   ],
   "source": [
    "visits['time_spent'].hist() "
   ]
  },
  {
   "cell_type": "markdown",
   "id": "f98d3ec0-7679-4dd7-a419-842e27dab534",
   "metadata": {},
   "source": [
    "2.Выведите гистограмму значений времени, проведённого на АЗС, с увеличенным до 100 числом столбцов"
   ]
  },
  {
   "cell_type": "code",
   "execution_count": 194,
   "id": "168e71f7-fa32-44a3-b465-9dec2a0997fc",
   "metadata": {},
   "outputs": [
    {
     "data": {
      "text/plain": [
       "<Axes: >"
      ]
     },
     "execution_count": 194,
     "metadata": {},
     "output_type": "execute_result"
    },
    {
     "data": {
      "image/png": "[encoded data removed]",
      "text/plain": [
       "<Figure size 640x480 with 1 Axes>"
      ]
     },
     "metadata": {},
     "output_type": "display_data"
    }
   ],
   "source": [
    "visits['time_spent'].hist(bins=100) "
   ]
  },
  {
   "cell_type": "markdown",
   "id": "fbe6a98a-10f2-434f-a978-15dac30c8107",
   "metadata": {},
   "source": [
    "3.Выведите гистограмму значений времени, проведённого на АЗС, с увеличенным до 100 числом столбцов и диапазоном значений от 0 до 1500."
   ]
  },
  {
   "cell_type": "code",
   "execution_count": 195,
   "id": "056d6eb4-916f-4c37-8bc9-cb6db477b7b3",
   "metadata": {},
   "outputs": [
    {
     "data": {
      "text/plain": [
       "<Axes: >"
      ]
     },
     "execution_count": 195,
     "metadata": {},
     "output_type": "execute_result"
    },
    {
     "data": {
      "image/png": "[encoded data removed]",
      "text/plain": [
       "<Figure size 640x480 with 1 Axes>"
      ]
     },
     "metadata": {},
     "output_type": "display_data"
    }
   ],
   "source": [
    "visits['time_spent'].hist(range = (0, 1500)) "
   ]
  },
  {
   "cell_type": "markdown",
   "id": "c34d8f7f-5b03-41dc-9eab-df6e201f6c14",
   "metadata": {},
   "source": [
    "# Гистограмма для двух кубиков"
   ]
  },
  {
   "cell_type": "code",
   "execution_count": 196,
   "id": "ab85699a-80d8-44c3-a66d-fb2c27a764e3",
   "metadata": {},
   "outputs": [
    {
     "data": {
      "text/plain": [
       "array([[<Axes: title={'center': '0'}>]], dtype=object)"
      ]
     },
     "execution_count": 196,
     "metadata": {},
     "output_type": "execute_result"
    },
    {
     "data": {
      "image/png": "[encoded data removed]",
      "text/plain": [
       "<Figure size 640x480 with 1 Axes>"
      ]
     },
     "metadata": {},
     "output_type": "display_data"
    }
   ],
   "source": [
    "import random \n",
    "def dice_roll():\n",
    "    score = random.randint(1, 6)\n",
    "    return score\n",
    "def double_roll_score():\n",
    "    first = dice_roll()\n",
    "    second = dice_roll()\n",
    "    score = first + second\n",
    "    return score\n",
    "\n",
    "import pandas as pd\n",
    "\n",
    "# Cоздаём пустой список. В него мы\n",
    "# будем складывать результаты экспериментов.\n",
    "experiments = []\n",
    "for i in range(1000):\n",
    "        score = double_roll_score()\n",
    "        # Напомним: функция append() добавляет новый\n",
    "        # элемент score в конец списка experiments.\n",
    "        experiments.append(score)\n",
    "\n",
    "df_experiments = pd.DataFrame(experiments)\n",
    "df_experiments.hist(bins=11, range=(2, 12)) "
   ]
  },
  {
   "cell_type": "markdown",
   "id": "9ec51c34-aa31-450a-9dee-0edbd0cc1395",
   "metadata": {},
   "source": [
    "1.Будем бросать на стол 10 монет и считать количество выпавших орлов. Функции для имитации одного броска и подсчёта числа орлов в нескольких бросках уже в прекоде. Мы повторили эксперимент 1000 раз и сохранили результат в переменной df_experiments.\n",
    "Постройте гистограмму полученных значений с диапазоном значений от 0 до 10 и количеством корзин 11."
   ]
  },
  {
   "cell_type": "code",
   "execution_count": 197,
   "id": "9caa636c-9829-4dba-a924-e0fe839abe33",
   "metadata": {},
   "outputs": [
    {
     "name": "stdout",
     "output_type": "stream",
     "text": [
      "[[<Axes: title={'center': '0'}>]]\n"
     ]
    },
    {
     "data": {
      "image/png": "[encoded data removed]",
      "text/plain": [
       "<Figure size 640x480 with 1 Axes>"
      ]
     },
     "metadata": {},
     "output_type": "display_data"
    }
   ],
   "source": [
    "import random\n",
    "import pandas as pd\n",
    "\n",
    "# Функция, имитирующая один бросок монеты.\n",
    "# От англ. coin - монета, flip - бросок монеты.\n",
    "def coin_flip():\n",
    "    # возможны два варианта:\n",
    "    # - выпала решка, это +0 орлов\n",
    "    # - выпал орёл, это +1 орёл\n",
    "    score = random.randint(0, 1)\n",
    "    return score\n",
    "\n",
    "# Функция для суммирования числа орлов в нескольких бросках.\n",
    "# Орёл и решка переводятся на английский как heads и tails.\n",
    "# Аргумент repeat говорит, сколько раз бросать монету\n",
    "# (от англ. repeat - повторение).\n",
    "def flips_heads(repeat):\n",
    "    total = 0\n",
    "    for i in range(repeat):\n",
    "        flip = coin_flip()\n",
    "        total += flip\n",
    "    return total\n",
    "\n",
    "# Cоздаём пустой список. В него мы\n",
    "# будем складывать результаты экспериментов.\n",
    "experiments = []\n",
    "\n",
    "for i in range(1000):\n",
    "    score = flips_heads(10)\n",
    "\n",
    "    # Напомним: функция append() добавляет новый\n",
    "    # элемент score в конец списка experiments.\n",
    "    experiments.append(score)\n",
    "\n",
    "# превращаем список в DataFrame\n",
    "df_experiments = pd.DataFrame(experiments)\n",
    "\n",
    "# постройте гистограмму для df_experiments\n",
    "print(df_experiments.hist(bins=11, range=(0,10)))\n"
   ]
  },
  {
   "cell_type": "markdown",
   "id": "8cd1851b-e822-488c-80ec-079a5e0c0c30",
   "metadata": {},
   "source": [
    "2.Валерик каждый день едет на работу с тремя пересадками: сперва на автобусе до метро; затем по одной ветке, а потом по другой; и от метро добирается до работы на автобусе. Валерик знает, сколько продолжается поездка на каждом виде транспорта и пересадки, но вечно забывает учесть ожидание автобусов и поездов. Постройте гистограмму опозданий Валерика за 5 лет c параметром bins=10.\n",
    "Будем считать, что автобус прибывает за время от 0 до 10 минут, а поезд — за время от 0 до 5 минут. В прекоде мы уже написали функции, которые это имитируют."
   ]
  },
  {
   "cell_type": "code",
   "execution_count": 198,
   "id": "08c2780f-18e9-469a-8e4b-ebbf1f8b3d13",
   "metadata": {},
   "outputs": [
    {
     "name": "stdout",
     "output_type": "stream",
     "text": [
      "[[<Axes: title={'center': '0'}>]]\n"
     ]
    },
    {
     "data": {
      "image/png": "[encoded data removed]",
      "text/plain": [
       "<Figure size 640x480 with 1 Axes>"
      ]
     },
     "metadata": {},
     "output_type": "display_data"
    }
   ],
   "source": [
    "import random\n",
    "import pandas as pd\n",
    "\n",
    "# Функция, имитирующая время ожидания автобуса.\n",
    "# (от англ. bus - автобус, wait - ждать, time - время)\n",
    "def bus_wait_time():\n",
    "    return random.randint(0, 10)\n",
    "\n",
    "# Функция, имитирующая время ожидания поезда в метро.\n",
    "# (от англ. train - поезд, wait - ждать, time - время)\n",
    "def train_wait_time():\n",
    "    return random.randint(0, 5)\n",
    "\n",
    "# Функция подсчёта полного опоздания за день.\n",
    "# от англ. total - полный, итоговый, delay - задержка, опоздание\n",
    "def total_delay():\n",
    "    # обратите внимание, как в Python переносят длинные строки\n",
    "    return (bus_wait_time() + \n",
    "            train_wait_time() + \n",
    "            train_wait_time() + \n",
    "            bus_wait_time())\n",
    "\n",
    "# создайте пустой список\n",
    "days = []\n",
    "\n",
    "for i in range(365 * 5):\n",
    "    delay = total_delay()\n",
    "    days.append(delay)\n",
    "    # добавьте опоздание в список days\n",
    "\n",
    "# превращаем список в DataFrame\n",
    "df_days = pd.DataFrame(days)\n",
    "# постройте гистограмму для df_experiments\n",
    "print(df_days.hist(bins=10))"
   ]
  },
  {
   "cell_type": "markdown",
   "id": "915c8963-2548-4d8a-89ea-48560bd6157d",
   "metadata": {},
   "source": [
    "# Диаграмма размаха в Python"
   ]
  },
  {
   "cell_type": "markdown",
   "id": "bfacd2c1-db48-4e90-8a25-576b8306a372",
   "metadata": {},
   "source": [
    "Нарисуйте диаграмму размаха для data, ограничив диапазон по вертикали значениями -100 и 1000."
   ]
  },
  {
   "cell_type": "code",
   "execution_count": 199,
   "id": "96e74645-b8f5-4892-9595-7eb4136e005f",
   "metadata": {},
   "outputs": [
    {
     "data": {
      "text/plain": [
       "(-100.0, 1000.0)"
      ]
     },
     "execution_count": 199,
     "metadata": {},
     "output_type": "execute_result"
    },
    {
     "data": {
      "image/png": "[encoded data removed]",
      "text/plain": [
       "<Figure size 640x480 with 1 Axes>"
      ]
     },
     "metadata": {},
     "output_type": "display_data"
    }
   ],
   "source": [
    "visits.boxplot()\n",
    "plt.ylim(-100,1000)"
   ]
  },
  {
   "cell_type": "markdown",
   "id": "d3b733e7-addc-4f97-8748-1e09cb1d95e9",
   "metadata": {},
   "source": [
    "Большая часть значений в пределах до 300 секунд. Но Q1 - где 25% значений меньше этого числа, находится в районе 50 секунд, что странно.\n",
    "<br> Нижний «ус» упирается в 0, минимальное значение. Верхний заканчивается около 650 секунд — это 1.5 межквартильного размаха, добавленного к 3-му квартилю. <br> Это ориентировочная граница нормального размаха. Всё, что лежит за ней, считается выбросом. \n",
    "<br>Более высокие значения рисуются отдельными точками, но сливаются в единую жирную линию: таких выбросов у нас очень много."
   ]
  },
  {
   "cell_type": "markdown",
   "id": "0af99ee6-2ec2-4308-8321-e780536b73c7",
   "metadata": {},
   "source": [
    "# Описание данных"
   ]
  },
  {
   "cell_type": "markdown",
   "id": "ae128a08-2032-440a-9a86-12f0ebff264d",
   "metadata": {},
   "source": [
    "Примените метод describe() к таблице data."
   ]
  },
  {
   "cell_type": "code",
   "execution_count": 200,
   "id": "121bc90f-603c-48d2-ae54-56c0ab81e72e",
   "metadata": {},
   "outputs": [
    {
     "data": {
      "text/html": [
       "<div>\n",
       "<style scoped>\n",
       "    .dataframe tbody tr th:only-of-type {\n",
       "        vertical-align: middle;\n",
       "    }\n",
       "\n",
       "    .dataframe tbody tr th {\n",
       "        vertical-align: top;\n",
       "    }\n",
       "\n",
       "    .dataframe thead th {\n",
       "        text-align: right;\n",
       "    }\n",
       "</style>\n",
       "<table border=\"1\" class=\"dataframe\">\n",
       "  <thead>\n",
       "    <tr style=\"text-align: right;\">\n",
       "      <th></th>\n",
       "      <th>time_spent</th>\n",
       "    </tr>\n",
       "  </thead>\n",
       "  <tbody>\n",
       "    <tr>\n",
       "      <th>count</th>\n",
       "      <td>317104.000000</td>\n",
       "    </tr>\n",
       "    <tr>\n",
       "      <th>mean</th>\n",
       "      <td>203.382294</td>\n",
       "    </tr>\n",
       "    <tr>\n",
       "      <th>std</th>\n",
       "      <td>395.754791</td>\n",
       "    </tr>\n",
       "    <tr>\n",
       "      <th>min</th>\n",
       "      <td>0.000000</td>\n",
       "    </tr>\n",
       "    <tr>\n",
       "      <th>25%</th>\n",
       "      <td>19.000000</td>\n",
       "    </tr>\n",
       "    <tr>\n",
       "      <th>50%</th>\n",
       "      <td>108.000000</td>\n",
       "    </tr>\n",
       "    <tr>\n",
       "      <th>75%</th>\n",
       "      <td>274.000000</td>\n",
       "    </tr>\n",
       "    <tr>\n",
       "      <th>max</th>\n",
       "      <td>28925.000000</td>\n",
       "    </tr>\n",
       "  </tbody>\n",
       "</table>\n",
       "</div>"
      ],
      "text/plain": [
       "          time_spent\n",
       "count  317104.000000\n",
       "mean      203.382294\n",
       "std       395.754791\n",
       "min         0.000000\n",
       "25%        19.000000\n",
       "50%       108.000000\n",
       "75%       274.000000\n",
       "max     28925.000000"
      ]
     },
     "execution_count": 200,
     "metadata": {},
     "output_type": "execute_result"
    }
   ],
   "source": [
    "visits.describe()"
   ]
  },
  {
   "cell_type": "markdown",
   "id": "cfdb6c88-c954-4476-a822-79ed58c112f9",
   "metadata": {},
   "source": [
    "Среднее больше медианы почти в два раза. Это означает, что есть несколько больших значений, которые дают такую разницу, но не влияют на медиану. "
   ]
  },
  {
   "cell_type": "markdown",
   "id": "4e07056a-0c9d-481f-8b23-e4e96db91a94",
   "metadata": {},
   "source": [
    "# Изучение срезов данных"
   ]
  },
  {
   "cell_type": "markdown",
   "id": "a8cd386f-d513-42f5-a4c2-e9be1f775cf0",
   "metadata": {},
   "source": [
    "1.Выберите дешёвые авиабилеты — те у которых цена меньше максимальной в полтора раза или ещё ниже.\n",
    "Выведите на экран полученную выборку."
   ]
  },
  {
   "cell_type": "code",
   "execution_count": 201,
   "id": "8fde04e3-2e7d-4ca9-9d21-48053e0366db",
   "metadata": {},
   "outputs": [],
   "source": [
    "df = pd.DataFrame({\n",
    "    'From': [\n",
    "        'Moscow', 'Moscow', 'St. Petersburg', 'St. Petersburg', 'St. Petersburg'\n",
    "    ], \n",
    "    'To': ['Rome', 'Rome', 'Rome', 'Barcelona', 'Barcelona'],\n",
    "    'Is_Direct': [False, True, False, False, True],\n",
    "    'Has_luggage': [True, False, False, True, False],\n",
    "    'Price': [21032, 19250, 19301, 20168, 31425],\n",
    "    'Date_From': [\n",
    "        '01.07.19', '01.07.19', '04.07.2019', '03.07.2019', '05.07.2019'\n",
    "    ],\n",
    "    'Date_To': [\n",
    "        '07.07.19', '07.07.19', '10.07.2019', '09.07.2019', '11.07.2019'\n",
    "    ],\n",
    "    'Airline': ['Belavia', 'S7', 'Finnair', 'Swiss', 'Rossiya'],\n",
    "    'Travel_time_from': [995, 230, 605, 365, 255],\n",
    "    'Travel_time_to': [350, 225, 720, 355, 250]\n",
    "})\n"
   ]
  },
  {
   "cell_type": "code",
   "execution_count": 202,
   "id": "1ae93cca-9b6b-47a4-8179-92d4939d2b19",
   "metadata": {},
   "outputs": [
    {
     "data": {
      "text/html": [
       "<div>\n",
       "<style scoped>\n",
       "    .dataframe tbody tr th:only-of-type {\n",
       "        vertical-align: middle;\n",
       "    }\n",
       "\n",
       "    .dataframe tbody tr th {\n",
       "        vertical-align: top;\n",
       "    }\n",
       "\n",
       "    .dataframe thead th {\n",
       "        text-align: right;\n",
       "    }\n",
       "</style>\n",
       "<table border=\"1\" class=\"dataframe\">\n",
       "  <thead>\n",
       "    <tr style=\"text-align: right;\">\n",
       "      <th></th>\n",
       "      <th>From</th>\n",
       "      <th>To</th>\n",
       "      <th>Is_Direct</th>\n",
       "      <th>Has_luggage</th>\n",
       "      <th>Price</th>\n",
       "      <th>Date_From</th>\n",
       "      <th>Date_To</th>\n",
       "      <th>Airline</th>\n",
       "      <th>Travel_time_from</th>\n",
       "      <th>Travel_time_to</th>\n",
       "    </tr>\n",
       "  </thead>\n",
       "  <tbody>\n",
       "    <tr>\n",
       "      <th>1</th>\n",
       "      <td>Moscow</td>\n",
       "      <td>Rome</td>\n",
       "      <td>True</td>\n",
       "      <td>False</td>\n",
       "      <td>19250</td>\n",
       "      <td>01.07.19</td>\n",
       "      <td>07.07.19</td>\n",
       "      <td>S7</td>\n",
       "      <td>230</td>\n",
       "      <td>225</td>\n",
       "    </tr>\n",
       "    <tr>\n",
       "      <th>2</th>\n",
       "      <td>St. Petersburg</td>\n",
       "      <td>Rome</td>\n",
       "      <td>False</td>\n",
       "      <td>False</td>\n",
       "      <td>19301</td>\n",
       "      <td>04.07.2019</td>\n",
       "      <td>10.07.2019</td>\n",
       "      <td>Finnair</td>\n",
       "      <td>605</td>\n",
       "      <td>720</td>\n",
       "    </tr>\n",
       "    <tr>\n",
       "      <th>3</th>\n",
       "      <td>St. Petersburg</td>\n",
       "      <td>Barcelona</td>\n",
       "      <td>False</td>\n",
       "      <td>True</td>\n",
       "      <td>20168</td>\n",
       "      <td>03.07.2019</td>\n",
       "      <td>09.07.2019</td>\n",
       "      <td>Swiss</td>\n",
       "      <td>365</td>\n",
       "      <td>355</td>\n",
       "    </tr>\n",
       "  </tbody>\n",
       "</table>\n",
       "</div>"
      ],
      "text/plain": [
       "             From         To  Is_Direct  Has_luggage  Price   Date_From  \\\n",
       "1          Moscow       Rome       True        False  19250    01.07.19   \n",
       "2  St. Petersburg       Rome      False        False  19301  04.07.2019   \n",
       "3  St. Petersburg  Barcelona      False         True  20168  03.07.2019   \n",
       "\n",
       "      Date_To  Airline  Travel_time_from  Travel_time_to  \n",
       "1    07.07.19       S7               230             225  \n",
       "2  10.07.2019  Finnair               605             720  \n",
       "3  09.07.2019    Swiss               365             355  "
      ]
     },
     "execution_count": 202,
     "metadata": {},
     "output_type": "execute_result"
    }
   ],
   "source": [
    "df[df['Price'] < df['Price'].max()/1.5]"
   ]
  },
  {
   "cell_type": "markdown",
   "id": "b974307c-d118-456f-b52a-c15857244992",
   "metadata": {},
   "source": [
    "2.Выберите строки, где значения столбца 'Travel_time_from' больше или равно 365, или значения 'Travel_time_to' меньше 250. Результат выведите на экран."
   ]
  },
  {
   "cell_type": "code",
   "execution_count": 203,
   "id": "990bce76-f8f6-4d6b-945e-4f3e7e4c1e6a",
   "metadata": {},
   "outputs": [
    {
     "data": {
      "text/html": [
       "<div>\n",
       "<style scoped>\n",
       "    .dataframe tbody tr th:only-of-type {\n",
       "        vertical-align: middle;\n",
       "    }\n",
       "\n",
       "    .dataframe tbody tr th {\n",
       "        vertical-align: top;\n",
       "    }\n",
       "\n",
       "    .dataframe thead th {\n",
       "        text-align: right;\n",
       "    }\n",
       "</style>\n",
       "<table border=\"1\" class=\"dataframe\">\n",
       "  <thead>\n",
       "    <tr style=\"text-align: right;\">\n",
       "      <th></th>\n",
       "      <th>From</th>\n",
       "      <th>To</th>\n",
       "      <th>Is_Direct</th>\n",
       "      <th>Has_luggage</th>\n",
       "      <th>Price</th>\n",
       "      <th>Date_From</th>\n",
       "      <th>Date_To</th>\n",
       "      <th>Airline</th>\n",
       "      <th>Travel_time_from</th>\n",
       "      <th>Travel_time_to</th>\n",
       "    </tr>\n",
       "  </thead>\n",
       "  <tbody>\n",
       "    <tr>\n",
       "      <th>0</th>\n",
       "      <td>Moscow</td>\n",
       "      <td>Rome</td>\n",
       "      <td>False</td>\n",
       "      <td>True</td>\n",
       "      <td>21032</td>\n",
       "      <td>01.07.19</td>\n",
       "      <td>07.07.19</td>\n",
       "      <td>Belavia</td>\n",
       "      <td>995</td>\n",
       "      <td>350</td>\n",
       "    </tr>\n",
       "    <tr>\n",
       "      <th>1</th>\n",
       "      <td>Moscow</td>\n",
       "      <td>Rome</td>\n",
       "      <td>True</td>\n",
       "      <td>False</td>\n",
       "      <td>19250</td>\n",
       "      <td>01.07.19</td>\n",
       "      <td>07.07.19</td>\n",
       "      <td>S7</td>\n",
       "      <td>230</td>\n",
       "      <td>225</td>\n",
       "    </tr>\n",
       "    <tr>\n",
       "      <th>2</th>\n",
       "      <td>St. Petersburg</td>\n",
       "      <td>Rome</td>\n",
       "      <td>False</td>\n",
       "      <td>False</td>\n",
       "      <td>19301</td>\n",
       "      <td>04.07.2019</td>\n",
       "      <td>10.07.2019</td>\n",
       "      <td>Finnair</td>\n",
       "      <td>605</td>\n",
       "      <td>720</td>\n",
       "    </tr>\n",
       "    <tr>\n",
       "      <th>3</th>\n",
       "      <td>St. Petersburg</td>\n",
       "      <td>Barcelona</td>\n",
       "      <td>False</td>\n",
       "      <td>True</td>\n",
       "      <td>20168</td>\n",
       "      <td>03.07.2019</td>\n",
       "      <td>09.07.2019</td>\n",
       "      <td>Swiss</td>\n",
       "      <td>365</td>\n",
       "      <td>355</td>\n",
       "    </tr>\n",
       "  </tbody>\n",
       "</table>\n",
       "</div>"
      ],
      "text/plain": [
       "             From         To  Is_Direct  Has_luggage  Price   Date_From  \\\n",
       "0          Moscow       Rome      False         True  21032    01.07.19   \n",
       "1          Moscow       Rome       True        False  19250    01.07.19   \n",
       "2  St. Petersburg       Rome      False        False  19301  04.07.2019   \n",
       "3  St. Petersburg  Barcelona      False         True  20168  03.07.2019   \n",
       "\n",
       "      Date_To  Airline  Travel_time_from  Travel_time_to  \n",
       "0    07.07.19  Belavia               995             350  \n",
       "1    07.07.19       S7               230             225  \n",
       "2  10.07.2019  Finnair               605             720  \n",
       "3  09.07.2019    Swiss               365             355  "
      ]
     },
     "execution_count": 203,
     "metadata": {},
     "output_type": "execute_result"
    }
   ],
   "source": [
    "df[(df['Travel_time_from']>=365) | (df['Travel_time_from'] < 250)] "
   ]
  },
  {
   "cell_type": "markdown",
   "id": "7c6eaa46-8036-4fcc-9451-2e6fc69e11da",
   "metadata": {},
   "source": [
    "3.Выберите строки, где:\n",
    "<br>полёт с пересадкой;\n",
    "<br>возвращение до 8 июля (ни 9, ни 10, ни 11 июля).\n",
    "<br>Результат выведите на экран."
   ]
  },
  {
   "cell_type": "code",
   "execution_count": 204,
   "id": "c4277e49-6f4f-441c-8634-8a4fa0c35dfa",
   "metadata": {},
   "outputs": [
    {
     "data": {
      "text/html": [
       "<div>\n",
       "<style scoped>\n",
       "    .dataframe tbody tr th:only-of-type {\n",
       "        vertical-align: middle;\n",
       "    }\n",
       "\n",
       "    .dataframe tbody tr th {\n",
       "        vertical-align: top;\n",
       "    }\n",
       "\n",
       "    .dataframe thead th {\n",
       "        text-align: right;\n",
       "    }\n",
       "</style>\n",
       "<table border=\"1\" class=\"dataframe\">\n",
       "  <thead>\n",
       "    <tr style=\"text-align: right;\">\n",
       "      <th></th>\n",
       "      <th>From</th>\n",
       "      <th>To</th>\n",
       "      <th>Is_Direct</th>\n",
       "      <th>Has_luggage</th>\n",
       "      <th>Price</th>\n",
       "      <th>Date_From</th>\n",
       "      <th>Date_To</th>\n",
       "      <th>Airline</th>\n",
       "      <th>Travel_time_from</th>\n",
       "      <th>Travel_time_to</th>\n",
       "    </tr>\n",
       "  </thead>\n",
       "  <tbody>\n",
       "    <tr>\n",
       "      <th>0</th>\n",
       "      <td>Moscow</td>\n",
       "      <td>Rome</td>\n",
       "      <td>False</td>\n",
       "      <td>True</td>\n",
       "      <td>21032</td>\n",
       "      <td>01.07.19</td>\n",
       "      <td>07.07.19</td>\n",
       "      <td>Belavia</td>\n",
       "      <td>995</td>\n",
       "      <td>350</td>\n",
       "    </tr>\n",
       "  </tbody>\n",
       "</table>\n",
       "</div>"
      ],
      "text/plain": [
       "     From    To  Is_Direct  Has_luggage  Price Date_From   Date_To  Airline  \\\n",
       "0  Moscow  Rome      False         True  21032  01.07.19  07.07.19  Belavia   \n",
       "\n",
       "   Travel_time_from  Travel_time_to  \n",
       "0               995             350  "
      ]
     },
     "execution_count": 204,
     "metadata": {},
     "output_type": "execute_result"
    }
   ],
   "source": [
    "df[(df['Is_Direct'] == False) & (~df['Date_To'].isin((\n",
    "    '09.07.2019', '10.07.2019', '11.07.2019')))] # впишите нужное условие"
   ]
  },
  {
   "cell_type": "markdown",
   "id": "f251682e-58ed-44f7-be79-df43a83287f0",
   "metadata": {},
   "source": [
    "# Возможности query()"
   ]
  },
  {
   "cell_type": "markdown",
   "id": "7e2186ba-44ad-4705-9b40-e2d1f76d51f8",
   "metadata": {},
   "source": [
    "1.Выберите строки, где: Has_luggage равно False и Airline не равно ни S7, ни Rossiya. Напечатайте полученную выборку на экране."
   ]
  },
  {
   "cell_type": "code",
   "execution_count": 205,
   "id": "b82db3f2-5a39-4af7-847f-80d4274c814b",
   "metadata": {},
   "outputs": [
    {
     "data": {
      "text/html": [
       "<div>\n",
       "<style scoped>\n",
       "    .dataframe tbody tr th:only-of-type {\n",
       "        vertical-align: middle;\n",
       "    }\n",
       "\n",
       "    .dataframe tbody tr th {\n",
       "        vertical-align: top;\n",
       "    }\n",
       "\n",
       "    .dataframe thead th {\n",
       "        text-align: right;\n",
       "    }\n",
       "</style>\n",
       "<table border=\"1\" class=\"dataframe\">\n",
       "  <thead>\n",
       "    <tr style=\"text-align: right;\">\n",
       "      <th></th>\n",
       "      <th>From</th>\n",
       "      <th>To</th>\n",
       "      <th>Is_Direct</th>\n",
       "      <th>Has_luggage</th>\n",
       "      <th>Price</th>\n",
       "      <th>Date_From</th>\n",
       "      <th>Date_To</th>\n",
       "      <th>Airline</th>\n",
       "      <th>Travel_time_from</th>\n",
       "      <th>Travel_time_to</th>\n",
       "    </tr>\n",
       "  </thead>\n",
       "  <tbody>\n",
       "    <tr>\n",
       "      <th>2</th>\n",
       "      <td>St. Petersburg</td>\n",
       "      <td>Rome</td>\n",
       "      <td>False</td>\n",
       "      <td>False</td>\n",
       "      <td>19301</td>\n",
       "      <td>04.07.2019</td>\n",
       "      <td>10.07.2019</td>\n",
       "      <td>Finnair</td>\n",
       "      <td>605</td>\n",
       "      <td>720</td>\n",
       "    </tr>\n",
       "  </tbody>\n",
       "</table>\n",
       "</div>"
      ],
      "text/plain": [
       "             From    To  Is_Direct  Has_luggage  Price   Date_From  \\\n",
       "2  St. Petersburg  Rome      False        False  19301  04.07.2019   \n",
       "\n",
       "      Date_To  Airline  Travel_time_from  Travel_time_to  \n",
       "2  10.07.2019  Finnair               605             720  "
      ]
     },
     "execution_count": 205,
     "metadata": {},
     "output_type": "execute_result"
    }
   ],
   "source": [
    "df.query ('Has_luggage == False and Airline not in (\"S7\",\"Rossiya\")')"
   ]
  },
  {
   "cell_type": "markdown",
   "id": "7a69b37a-a86b-4cde-ae58-189d914cfa62",
   "metadata": {},
   "source": [
    "2.Выберите строки, где Airline равно \"Belavia\", \"S7\" или \"Rossiya\", при этом 'Travel_time_from' меньше переменной под названием max_time. Напечатайте полученную выборку на экране."
   ]
  },
  {
   "cell_type": "code",
   "execution_count": 206,
   "id": "f0a4c673-e431-47ea-b7b8-7551912f80f6",
   "metadata": {},
   "outputs": [
    {
     "data": {
      "text/html": [
       "<div>\n",
       "<style scoped>\n",
       "    .dataframe tbody tr th:only-of-type {\n",
       "        vertical-align: middle;\n",
       "    }\n",
       "\n",
       "    .dataframe tbody tr th {\n",
       "        vertical-align: top;\n",
       "    }\n",
       "\n",
       "    .dataframe thead th {\n",
       "        text-align: right;\n",
       "    }\n",
       "</style>\n",
       "<table border=\"1\" class=\"dataframe\">\n",
       "  <thead>\n",
       "    <tr style=\"text-align: right;\">\n",
       "      <th></th>\n",
       "      <th>From</th>\n",
       "      <th>To</th>\n",
       "      <th>Is_Direct</th>\n",
       "      <th>Has_luggage</th>\n",
       "      <th>Price</th>\n",
       "      <th>Date_From</th>\n",
       "      <th>Date_To</th>\n",
       "      <th>Airline</th>\n",
       "      <th>Travel_time_from</th>\n",
       "      <th>Travel_time_to</th>\n",
       "    </tr>\n",
       "  </thead>\n",
       "  <tbody>\n",
       "    <tr>\n",
       "      <th>1</th>\n",
       "      <td>Moscow</td>\n",
       "      <td>Rome</td>\n",
       "      <td>True</td>\n",
       "      <td>False</td>\n",
       "      <td>19250</td>\n",
       "      <td>01.07.19</td>\n",
       "      <td>07.07.19</td>\n",
       "      <td>S7</td>\n",
       "      <td>230</td>\n",
       "      <td>225</td>\n",
       "    </tr>\n",
       "    <tr>\n",
       "      <th>4</th>\n",
       "      <td>St. Petersburg</td>\n",
       "      <td>Barcelona</td>\n",
       "      <td>True</td>\n",
       "      <td>False</td>\n",
       "      <td>31425</td>\n",
       "      <td>05.07.2019</td>\n",
       "      <td>11.07.2019</td>\n",
       "      <td>Rossiya</td>\n",
       "      <td>255</td>\n",
       "      <td>250</td>\n",
       "    </tr>\n",
       "  </tbody>\n",
       "</table>\n",
       "</div>"
      ],
      "text/plain": [
       "             From         To  Is_Direct  Has_luggage  Price   Date_From  \\\n",
       "1          Moscow       Rome       True        False  19250    01.07.19   \n",
       "4  St. Petersburg  Barcelona       True        False  31425  05.07.2019   \n",
       "\n",
       "      Date_To  Airline  Travel_time_from  Travel_time_to  \n",
       "1    07.07.19       S7               230             225  \n",
       "4  11.07.2019  Rossiya               255             250  "
      ]
     },
     "execution_count": 206,
     "metadata": {},
     "output_type": "execute_result"
    }
   ],
   "source": [
    "\n",
    "max_time = 300\n",
    "\n",
    "df.query ('Airline in(\"Belavia\",\"S7\",\"Rossiya\") and Travel_time_from < @max_time')"
   ]
  },
  {
   "cell_type": "markdown",
   "id": "77c73aee-fda6-433b-a89f-60191e6c1482",
   "metadata": {},
   "source": [
    "# Срезы в действии"
   ]
  },
  {
   "cell_type": "code",
   "execution_count": 207,
   "id": "75b1118b-7e0f-41d6-8bf9-1985b62b6e98",
   "metadata": {},
   "outputs": [],
   "source": [
    "import matplotlib.pyplot as plt "
   ]
  },
  {
   "cell_type": "code",
   "execution_count": 208,
   "id": "456ea9ec-16be-4d68-b9b9-a3d98d1c65d1",
   "metadata": {},
   "outputs": [
    {
     "data": {
      "image/png": "[encoded data removed]",
      "text/plain": [
       "<Figure size 640x480 with 1 Axes>"
      ]
     },
     "metadata": {},
     "output_type": "display_data"
    },
    {
     "data": {
      "image/png": "[encoded data removed]",
      "text/plain": [
       "<Figure size 640x480 with 1 Axes>"
      ]
     },
     "metadata": {},
     "output_type": "display_data"
    }
   ],
   "source": [
    "data.hist(bins=10)\n",
    "plt.show()\n",
    "data.hist(bins=100)\n",
    "plt.show() "
   ]
  },
  {
   "cell_type": "markdown",
   "id": "0691d99c-7673-4b90-8263-6ebe989c0264",
   "metadata": {},
   "source": [
    "1.Узнайте, на каких АЗС водители проводят больше всего времени. Выведите топ-10 строк с самой долгой заправкой."
   ]
  },
  {
   "cell_type": "code",
   "execution_count": 209,
   "id": "ce205b8e-dbce-4c0c-94e2-5c3d779cf4e3",
   "metadata": {},
   "outputs": [
    {
     "name": "stdout",
     "output_type": "stream",
     "text": [
      "<class 'pandas.core.frame.DataFrame'>\n",
      "RangeIndex: 317104 entries, 0 to 317103\n",
      "Data columns (total 4 columns):\n",
      " #   Column      Non-Null Count   Dtype  \n",
      "---  ------      --------------   -----  \n",
      " 0   date_time   317104 non-null  object \n",
      " 1   id          317104 non-null  object \n",
      " 2   time_spent  317104 non-null  float64\n",
      " 3   name        317104 non-null  object \n",
      "dtypes: float64(1), object(3)\n",
      "memory usage: 9.7+ MB\n"
     ]
    }
   ],
   "source": [
    "visits.info()"
   ]
  },
  {
   "cell_type": "code",
   "execution_count": 210,
   "id": "111e6d03-af15-43ba-81dd-3490e94d983a",
   "metadata": {},
   "outputs": [
    {
     "data": {
      "text/html": [
       "<div>\n",
       "<style scoped>\n",
       "    .dataframe tbody tr th:only-of-type {\n",
       "        vertical-align: middle;\n",
       "    }\n",
       "\n",
       "    .dataframe tbody tr th {\n",
       "        vertical-align: top;\n",
       "    }\n",
       "\n",
       "    .dataframe thead th {\n",
       "        text-align: right;\n",
       "    }\n",
       "</style>\n",
       "<table border=\"1\" class=\"dataframe\">\n",
       "  <thead>\n",
       "    <tr style=\"text-align: right;\">\n",
       "      <th></th>\n",
       "      <th>date_time</th>\n",
       "      <th>id</th>\n",
       "      <th>time_spent</th>\n",
       "      <th>name</th>\n",
       "    </tr>\n",
       "  </thead>\n",
       "  <tbody>\n",
       "    <tr>\n",
       "      <th>114797</th>\n",
       "      <td>20180402T055708</td>\n",
       "      <td>3c1e4c52</td>\n",
       "      <td>28925.0</td>\n",
       "      <td>Василёк</td>\n",
       "    </tr>\n",
       "    <tr>\n",
       "      <th>27147</th>\n",
       "      <td>20180406T080254</td>\n",
       "      <td>4b5f2af5</td>\n",
       "      <td>28519.0</td>\n",
       "      <td>Немезия</td>\n",
       "    </tr>\n",
       "    <tr>\n",
       "      <th>60547</th>\n",
       "      <td>20180408T000002</td>\n",
       "      <td>cf1ba8a5</td>\n",
       "      <td>28292.0</td>\n",
       "      <td>Василёк</td>\n",
       "    </tr>\n",
       "    <tr>\n",
       "      <th>19042</th>\n",
       "      <td>20180408T204208</td>\n",
       "      <td>5410e876</td>\n",
       "      <td>23696.0</td>\n",
       "      <td>Василёк</td>\n",
       "    </tr>\n",
       "    <tr>\n",
       "      <th>118597</th>\n",
       "      <td>20180408T165020</td>\n",
       "      <td>3c1e4c52</td>\n",
       "      <td>21184.0</td>\n",
       "      <td>Василёк</td>\n",
       "    </tr>\n",
       "    <tr>\n",
       "      <th>118058</th>\n",
       "      <td>20180402T111333</td>\n",
       "      <td>3c1e4c52</td>\n",
       "      <td>20359.0</td>\n",
       "      <td>Василёк</td>\n",
       "    </tr>\n",
       "    <tr>\n",
       "      <th>114406</th>\n",
       "      <td>20180408T083722</td>\n",
       "      <td>3c1e4c52</td>\n",
       "      <td>19886.0</td>\n",
       "      <td>Василёк</td>\n",
       "    </tr>\n",
       "    <tr>\n",
       "      <th>132164</th>\n",
       "      <td>20180405T160745</td>\n",
       "      <td>627ea5e3</td>\n",
       "      <td>19445.0</td>\n",
       "      <td>Левкой</td>\n",
       "    </tr>\n",
       "    <tr>\n",
       "      <th>281360</th>\n",
       "      <td>20180406T180459</td>\n",
       "      <td>d0c0928d</td>\n",
       "      <td>18614.0</td>\n",
       "      <td>Пион</td>\n",
       "    </tr>\n",
       "    <tr>\n",
       "      <th>165326</th>\n",
       "      <td>20180402T230204</td>\n",
       "      <td>3af3bb71</td>\n",
       "      <td>18569.0</td>\n",
       "      <td>Агератум</td>\n",
       "    </tr>\n",
       "  </tbody>\n",
       "</table>\n",
       "</div>"
      ],
      "text/plain": [
       "              date_time        id  time_spent      name\n",
       "114797  20180402T055708  3c1e4c52     28925.0   Василёк\n",
       "27147   20180406T080254  4b5f2af5     28519.0   Немезия\n",
       "60547   20180408T000002  cf1ba8a5     28292.0   Василёк\n",
       "19042   20180408T204208  5410e876     23696.0   Василёк\n",
       "118597  20180408T165020  3c1e4c52     21184.0   Василёк\n",
       "118058  20180402T111333  3c1e4c52     20359.0   Василёк\n",
       "114406  20180408T083722  3c1e4c52     19886.0   Василёк\n",
       "132164  20180405T160745  627ea5e3     19445.0    Левкой\n",
       "281360  20180406T180459  d0c0928d     18614.0      Пион\n",
       "165326  20180402T230204  3af3bb71     18569.0  Агератум"
      ]
     },
     "execution_count": 210,
     "metadata": {},
     "output_type": "execute_result"
    }
   ],
   "source": [
    "visits.sort_values(by = 'time_spent',ascending = False).head(10)"
   ]
  },
  {
   "cell_type": "markdown",
   "id": "1a9530d1-a800-4d1a-a767-6011153e062c",
   "metadata": {},
   "source": [
    "2.Сохраните срез данных с id == \"3c1e4c52\" в переменной sample (англ. «выборка, проба»). Выведите количество заездов на эту АЗС."
   ]
  },
  {
   "cell_type": "code",
   "execution_count": 211,
   "id": "e397dc4c-7b4e-4f40-bd1f-385f1acbaeb9",
   "metadata": {},
   "outputs": [
    {
     "data": {
      "text/plain": [
       "np.int64(5814)"
      ]
     },
     "execution_count": 211,
     "metadata": {},
     "output_type": "execute_result"
    }
   ],
   "source": [
    "sample = visits.query('id == \"3c1e4c52\"')\n",
    "sample['id'].count()"
   ]
  },
  {
   "cell_type": "code",
   "execution_count": 212,
   "id": "4dfb527d-941f-425b-bcbb-aea2b57f240e",
   "metadata": {},
   "outputs": [
    {
     "data": {
      "text/plain": [
       "5814"
      ]
     },
     "execution_count": 212,
     "metadata": {},
     "output_type": "execute_result"
    }
   ],
   "source": [
    "len(visits.query('id == \"3c1e4c52\"'))"
   ]
  },
  {
   "cell_type": "markdown",
   "id": "f99186bb-2883-47c1-ad2c-551f2613d1e4",
   "metadata": {},
   "source": [
    "3.Нужно сравнить распределение времени пребывания на станции 3c1e4c52 с распределением времени пребывания на всех АЗС. Если они сильно различаются, возможно, станция 3c1e4c52 представляет собой статистический выброс.\n",
    "Методом hist() постройте две гистограммы распределения значений в столбце time_spent: одну для объекта data, вторую — для sample. Не забудьте использовать plt.show() после каждого вызова hist().\n",
    "Для обеих гистограмм задайте одинаковые аргументы: range — от 0 до 1500, bins — 100."
   ]
  },
  {
   "cell_type": "code",
   "execution_count": 213,
   "id": "db614565-dca4-467a-aefd-272972989179",
   "metadata": {},
   "outputs": [
    {
     "data": {
      "image/png": "[encoded data removed]",
      "text/plain": [
       "<Figure size 640x480 with 1 Axes>"
      ]
     },
     "metadata": {},
     "output_type": "display_data"
    },
    {
     "data": {
      "image/png": "[encoded data removed]",
      "text/plain": [
       "<Figure size 640x480 with 1 Axes>"
      ]
     },
     "metadata": {},
     "output_type": "display_data"
    }
   ],
   "source": [
    "visits.hist('time_spent',bins = 100, range = [0,1500])\n",
    "plt.show()\n",
    "sample.hist('time_spent',bins = 100, range = [0,1500])\n",
    "plt.show()"
   ]
  },
  {
   "cell_type": "code",
   "execution_count": 214,
   "id": "9fdcb8d0-6068-4c42-b0d6-72256150804d",
   "metadata": {},
   "outputs": [
    {
     "data": {
      "text/html": [
       "<div>\n",
       "<style scoped>\n",
       "    .dataframe tbody tr th:only-of-type {\n",
       "        vertical-align: middle;\n",
       "    }\n",
       "\n",
       "    .dataframe tbody tr th {\n",
       "        vertical-align: top;\n",
       "    }\n",
       "\n",
       "    .dataframe thead th {\n",
       "        text-align: right;\n",
       "    }\n",
       "</style>\n",
       "<table border=\"1\" class=\"dataframe\">\n",
       "  <thead>\n",
       "    <tr style=\"text-align: right;\">\n",
       "      <th></th>\n",
       "      <th>date_time</th>\n",
       "      <th>id</th>\n",
       "      <th>time_spent</th>\n",
       "      <th>name</th>\n",
       "    </tr>\n",
       "  </thead>\n",
       "  <tbody>\n",
       "    <tr>\n",
       "      <th>0</th>\n",
       "      <td>20180406T165358</td>\n",
       "      <td>76144fb2</td>\n",
       "      <td>98.0</td>\n",
       "      <td>Василёк</td>\n",
       "    </tr>\n",
       "    <tr>\n",
       "      <th>1</th>\n",
       "      <td>20180404T173913</td>\n",
       "      <td>76144fb2</td>\n",
       "      <td>15.0</td>\n",
       "      <td>Василёк</td>\n",
       "    </tr>\n",
       "    <tr>\n",
       "      <th>2</th>\n",
       "      <td>20180403T172824</td>\n",
       "      <td>76144fb2</td>\n",
       "      <td>220.0</td>\n",
       "      <td>Василёк</td>\n",
       "    </tr>\n",
       "    <tr>\n",
       "      <th>3</th>\n",
       "      <td>20180407T070441</td>\n",
       "      <td>76144fb2</td>\n",
       "      <td>19.0</td>\n",
       "      <td>Василёк</td>\n",
       "    </tr>\n",
       "    <tr>\n",
       "      <th>4</th>\n",
       "      <td>20180404T132049</td>\n",
       "      <td>76144fb2</td>\n",
       "      <td>14.0</td>\n",
       "      <td>Василёк</td>\n",
       "    </tr>\n",
       "    <tr>\n",
       "      <th>...</th>\n",
       "      <td>...</td>\n",
       "      <td>...</td>\n",
       "      <td>...</td>\n",
       "      <td>...</td>\n",
       "    </tr>\n",
       "    <tr>\n",
       "      <th>317099</th>\n",
       "      <td>20180408T053133</td>\n",
       "      <td>9cdb5039</td>\n",
       "      <td>11.0</td>\n",
       "      <td>Гейхера</td>\n",
       "    </tr>\n",
       "    <tr>\n",
       "      <th>317100</th>\n",
       "      <td>20180403T021353</td>\n",
       "      <td>9cdb5039</td>\n",
       "      <td>181.0</td>\n",
       "      <td>Гейхера</td>\n",
       "    </tr>\n",
       "    <tr>\n",
       "      <th>317101</th>\n",
       "      <td>20180408T062636</td>\n",
       "      <td>9cdb5039</td>\n",
       "      <td>252.0</td>\n",
       "      <td>Гейхера</td>\n",
       "    </tr>\n",
       "    <tr>\n",
       "      <th>317102</th>\n",
       "      <td>20180405T232425</td>\n",
       "      <td>9cdb5039</td>\n",
       "      <td>29.0</td>\n",
       "      <td>Гейхера</td>\n",
       "    </tr>\n",
       "    <tr>\n",
       "      <th>317103</th>\n",
       "      <td>20180405T194238</td>\n",
       "      <td>9cdb5039</td>\n",
       "      <td>20.0</td>\n",
       "      <td>Гейхера</td>\n",
       "    </tr>\n",
       "  </tbody>\n",
       "</table>\n",
       "<p>310907 rows × 4 columns</p>\n",
       "</div>"
      ],
      "text/plain": [
       "              date_time        id  time_spent     name\n",
       "0       20180406T165358  76144fb2        98.0  Василёк\n",
       "1       20180404T173913  76144fb2        15.0  Василёк\n",
       "2       20180403T172824  76144fb2       220.0  Василёк\n",
       "3       20180407T070441  76144fb2        19.0  Василёк\n",
       "4       20180404T132049  76144fb2        14.0  Василёк\n",
       "...                 ...       ...         ...      ...\n",
       "317099  20180408T053133  9cdb5039        11.0  Гейхера\n",
       "317100  20180403T021353  9cdb5039       181.0  Гейхера\n",
       "317101  20180408T062636  9cdb5039       252.0  Гейхера\n",
       "317102  20180405T232425  9cdb5039        29.0  Гейхера\n",
       "317103  20180405T194238  9cdb5039        20.0  Гейхера\n",
       "\n",
       "[310907 rows x 4 columns]"
      ]
     },
     "execution_count": 214,
     "metadata": {},
     "output_type": "execute_result"
    }
   ],
   "source": [
    "visits.query('time_spent < 1000')"
   ]
  },
  {
   "cell_type": "markdown",
   "id": "afad3c7e-f161-40a1-9313-348b37dc6661",
   "metadata": {},
   "source": [
    "# Работа с датой и временем"
   ]
  },
  {
   "cell_type": "markdown",
   "id": "310a4169-b3e8-4ff7-b2a4-8616fb1cb766",
   "metadata": {},
   "source": [
    "В столбце date_time дата и время заезда. Из описания данных известно, что время заезда указали в часовом поясе UTC+0, в формате ISO. <br>Значит, сначала слитно идут год, месяц, день; затем буквенный разделитель даты и времени T; затем часы, минуты и секунды — снова слитно."
   ]
  },
  {
   "cell_type": "markdown",
   "id": "4b7a33dd-e2f7-4806-a464-7a35ebdc518b",
   "metadata": {},
   "source": [
    "В курсе по предобработке вы познакомились с методом to_datetime(), который переводит строки в даты.<br> Напомним, что в аргументе format метода to_datetime() указывают специальные обозначения, порядок которых соответствует порядку чисел в строке с датой:\n",
    "<br>%d — день месяца (от 01 до 31)\n",
    "<br>%m — номер месяца (от 01 до 12)\n",
    "<br>%Y — четырёхзначный номер года (например, 2019)\n",
    "<br>Z или T — стандартный разделитель даты и времени\n",
    "<br>%H — номер часа в 24-часовом формате\n",
    "<br>%I — номер часа в 12-часовом формате\n",
    "<br>%M — минуты (от 00 до 59)\n",
    "<br>%S — секунды (от 00 до 59)"
   ]
  },
  {
   "cell_type": "markdown",
   "id": "ea12e84f-2126-42d6-a373-df6679a8c55a",
   "metadata": {},
   "source": [
    "1.Переведите значения в столбце date_time в формат даты.\n",
    "В аргументе format метода to_datetime() передайте строку со значениями года, месяца, дня и времени, чтобы получить запись вида: 2018-04-06 16:53:58. Результат сохраните в столбце date_time.\n",
    "Первые 5 строк таблицы data выведите на экран"
   ]
  },
  {
   "cell_type": "code",
   "execution_count": 219,
   "id": "ff356955-7af6-454f-aa70-e9e14c6f09db",
   "metadata": {},
   "outputs": [],
   "source": [
    "visits['date_time'] = pd.to_datetime(visits['date_time'], format='%Y%m%dT%H%M%S')"
   ]
  },
  {
   "cell_type": "markdown",
   "id": "5b4710c5-cb97-4530-8bd0-ae570826365a",
   "metadata": {},
   "source": [
    "2.Напомним, что в датафрейме записано время UTC. Московское рассчитывают как UTC + 3 часа.\n",
    "Создайте столбец data['local_time'] и сохраните в нём сдвинутую на +3 часа дату и время из столбца data['date_time']. Напечатайте первые 5 строк таблицы data."
   ]
  },
  {
   "cell_type": "code",
   "execution_count": 220,
   "id": "b4ed1cba-0de4-4578-aa70-6b6730237673",
   "metadata": {},
   "outputs": [],
   "source": [
    "visits['local_time'] = visits['date_time'] + pd.Timedelta(hours=3)"
   ]
  },
  {
   "cell_type": "code",
   "execution_count": 221,
   "id": "2c6d3182-d30b-4640-be00-46c733163569",
   "metadata": {},
   "outputs": [
    {
     "data": {
      "text/plain": [
       "0        2018-04-06 19:53:58\n",
       "1        2018-04-04 20:39:13\n",
       "2        2018-04-03 20:28:24\n",
       "3        2018-04-07 10:04:41\n",
       "4        2018-04-04 16:20:49\n",
       "                 ...        \n",
       "317099   2018-04-08 08:31:33\n",
       "317100   2018-04-03 05:13:53\n",
       "317101   2018-04-08 09:26:36\n",
       "317102   2018-04-06 02:24:25\n",
       "317103   2018-04-05 22:42:38\n",
       "Name: local_time, Length: 317104, dtype: datetime64[ns]"
      ]
     },
     "execution_count": 221,
     "metadata": {},
     "output_type": "execute_result"
    }
   ],
   "source": [
    "visits['local_time']"
   ]
  },
  {
   "cell_type": "markdown",
   "id": "a892790c-31b3-4f18-aa23-49830f97a10b",
   "metadata": {},
   "source": [
    "3.Создайте столбец data['date_hour'] с московским временем заезда на АЗС, округлённым до 1 часа методом dt.round(). Напечатайте первые 5 строк."
   ]
  },
  {
   "cell_type": "code",
   "execution_count": 226,
   "id": "e725d99b-3450-4c0d-a497-ba2134b6e2d9",
   "metadata": {},
   "outputs": [
    {
     "data": {
      "text/html": [
       "<div>\n",
       "<style scoped>\n",
       "    .dataframe tbody tr th:only-of-type {\n",
       "        vertical-align: middle;\n",
       "    }\n",
       "\n",
       "    .dataframe tbody tr th {\n",
       "        vertical-align: top;\n",
       "    }\n",
       "\n",
       "    .dataframe thead th {\n",
       "        text-align: right;\n",
       "    }\n",
       "</style>\n",
       "<table border=\"1\" class=\"dataframe\">\n",
       "  <thead>\n",
       "    <tr style=\"text-align: right;\">\n",
       "      <th></th>\n",
       "      <th>date_time</th>\n",
       "      <th>id</th>\n",
       "      <th>time_spent</th>\n",
       "      <th>name</th>\n",
       "      <th>local_time</th>\n",
       "      <th>date_hour</th>\n",
       "    </tr>\n",
       "  </thead>\n",
       "  <tbody>\n",
       "    <tr>\n",
       "      <th>0</th>\n",
       "      <td>2018-04-06 16:53:58</td>\n",
       "      <td>76144fb2</td>\n",
       "      <td>98.0</td>\n",
       "      <td>Василёк</td>\n",
       "      <td>2018-04-06 19:53:58</td>\n",
       "      <td>2018-04-06 20:00:00</td>\n",
       "    </tr>\n",
       "    <tr>\n",
       "      <th>1</th>\n",
       "      <td>2018-04-04 17:39:13</td>\n",
       "      <td>76144fb2</td>\n",
       "      <td>15.0</td>\n",
       "      <td>Василёк</td>\n",
       "      <td>2018-04-04 20:39:13</td>\n",
       "      <td>2018-04-04 21:00:00</td>\n",
       "    </tr>\n",
       "    <tr>\n",
       "      <th>2</th>\n",
       "      <td>2018-04-03 17:28:24</td>\n",
       "      <td>76144fb2</td>\n",
       "      <td>220.0</td>\n",
       "      <td>Василёк</td>\n",
       "      <td>2018-04-03 20:28:24</td>\n",
       "      <td>2018-04-03 20:00:00</td>\n",
       "    </tr>\n",
       "    <tr>\n",
       "      <th>3</th>\n",
       "      <td>2018-04-07 07:04:41</td>\n",
       "      <td>76144fb2</td>\n",
       "      <td>19.0</td>\n",
       "      <td>Василёк</td>\n",
       "      <td>2018-04-07 10:04:41</td>\n",
       "      <td>2018-04-07 10:00:00</td>\n",
       "    </tr>\n",
       "    <tr>\n",
       "      <th>4</th>\n",
       "      <td>2018-04-04 13:20:49</td>\n",
       "      <td>76144fb2</td>\n",
       "      <td>14.0</td>\n",
       "      <td>Василёк</td>\n",
       "      <td>2018-04-04 16:20:49</td>\n",
       "      <td>2018-04-04 16:00:00</td>\n",
       "    </tr>\n",
       "  </tbody>\n",
       "</table>\n",
       "</div>"
      ],
      "text/plain": [
       "            date_time        id  time_spent     name          local_time  \\\n",
       "0 2018-04-06 16:53:58  76144fb2        98.0  Василёк 2018-04-06 19:53:58   \n",
       "1 2018-04-04 17:39:13  76144fb2        15.0  Василёк 2018-04-04 20:39:13   \n",
       "2 2018-04-03 17:28:24  76144fb2       220.0  Василёк 2018-04-03 20:28:24   \n",
       "3 2018-04-07 07:04:41  76144fb2        19.0  Василёк 2018-04-07 10:04:41   \n",
       "4 2018-04-04 13:20:49  76144fb2        14.0  Василёк 2018-04-04 16:20:49   \n",
       "\n",
       "            date_hour  \n",
       "0 2018-04-06 20:00:00  \n",
       "1 2018-04-04 21:00:00  \n",
       "2 2018-04-03 20:00:00  \n",
       "3 2018-04-07 10:00:00  \n",
       "4 2018-04-04 16:00:00  "
      ]
     },
     "execution_count": 226,
     "metadata": {},
     "output_type": "execute_result"
    }
   ],
   "source": [
    "visits['date_hour'] = visits['local_time'].dt.round('1h')\n",
    "visits.head(5)"
   ]
  },
  {
   "cell_type": "markdown",
   "id": "2c4cb456-4da1-46f0-94a5-5f5cf24610d5",
   "metadata": {},
   "source": [
    "# Графики"
   ]
  },
  {
   "cell_type": "code",
   "execution_count": null,
   "id": "e63e2b86-0a72-451c-b20a-71e585c0e1ec",
   "metadata": {},
   "outputs": [],
   "source": []
  }
 ],
 "metadata": {
  "kernelspec": {
   "display_name": "Python 3 (ipykernel)",
   "language": "python",
   "name": "python3"
  },
  "language_info": {
   "codemirror_mode": {
    "name": "ipython",
    "version": 3
   },
   "file_extension": ".py",
   "mimetype": "text/x-python",
   "name": "python",
   "nbconvert_exporter": "python",
   "pygments_lexer": "ipython3",
   "version": "3.13.1"
  }
 },
 "nbformat": 4,
 "nbformat_minor": 5
}
